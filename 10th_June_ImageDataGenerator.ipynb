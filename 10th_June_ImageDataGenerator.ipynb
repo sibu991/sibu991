{
  "cells": [
    {
      "cell_type": "code",
      "execution_count": null,
      "metadata": {
        "id": "k-Uvk76awjPq"
      },
      "outputs": [],
      "source": [
        "# Kaggle --> Colab\n",
        "# Dogs Vs Cats (25,000)\n",
        "# --------------------\n",
        "# Read all images and stored in an array --> RAM\n",
        "# Last time I commented out the Normalization step\n",
        "\n",
        "# Original Images --> intergers\n",
        "# The moment you normalize them are converted to float\n",
        "\n",
        "\n",
        "# Life Cycle\n",
        "# Read Data (25k - RAM) --> Pre-Processing --> Make Model --> Model.fit (batch_size=100) -->\n",
        "\n",
        "# Have Data --> Build Pre Processing Function --> Make Model --> model.fit (batch_size=100)\n",
        "# Epoch1 batch1                                                  Read those 100 images only and pre-process them\n",
        "# Epoch1 batch2                                                  Read the next 100 images and pre-process them\n",
        "# Epoch1 batch3                                                  Read the next 100 images and pre-process them"
      ]
    },
    {
      "cell_type": "code",
      "execution_count": null,
      "metadata": {
        "id": "Ox2k_2oR03rx"
      },
      "outputs": [],
      "source": [
        "# epoch1 - 25K images are done\n",
        "#   batch - 100 images\n",
        "# epoch2 - 25K images are done"
      ]
    },
    {
      "cell_type": "code",
      "execution_count": null,
      "metadata": {
        "colab": {
          "base_uri": "https://localhost:8080/",
          "height": 334
        },
        "id": "eBrUUQyZ3SRt",
        "outputId": "eff46b44-cda6-41e0-ea74-787759f0a45f"
      },
      "outputs": [
        {
          "ename": "OSError",
          "evalue": "ignored",
          "output_type": "error",
          "traceback": [
            "\u001b[0;31m---------------------------------------------------------------------------\u001b[0m",
            "\u001b[0;31mOSError\u001b[0m                                   Traceback (most recent call last)",
            "\u001b[0;32m<ipython-input-1-42d5ef6888d8>\u001b[0m in \u001b[0;36m<cell line: 2>\u001b[0;34m()\u001b[0m\n\u001b[1;32m      1\u001b[0m \u001b[0;31m# Get data from Kaggle\u001b[0m\u001b[0;34m\u001b[0m\u001b[0;34m\u001b[0m\u001b[0m\n\u001b[0;32m----> 2\u001b[0;31m \u001b[0;32mimport\u001b[0m \u001b[0mkaggle\u001b[0m\u001b[0;34m\u001b[0m\u001b[0;34m\u001b[0m\u001b[0m\n\u001b[0m",
            "\u001b[0;32m/usr/local/lib/python3.10/dist-packages/kaggle/__init__.py\u001b[0m in \u001b[0;36m<module>\u001b[0;34m\u001b[0m\n\u001b[1;32m     21\u001b[0m \u001b[0;34m\u001b[0m\u001b[0m\n\u001b[1;32m     22\u001b[0m \u001b[0mapi\u001b[0m \u001b[0;34m=\u001b[0m \u001b[0mKaggleApi\u001b[0m\u001b[0;34m(\u001b[0m\u001b[0mApiClient\u001b[0m\u001b[0;34m(\u001b[0m\u001b[0;34m)\u001b[0m\u001b[0;34m)\u001b[0m\u001b[0;34m\u001b[0m\u001b[0;34m\u001b[0m\u001b[0m\n\u001b[0;32m---> 23\u001b[0;31m \u001b[0mapi\u001b[0m\u001b[0;34m.\u001b[0m\u001b[0mauthenticate\u001b[0m\u001b[0;34m(\u001b[0m\u001b[0;34m)\u001b[0m\u001b[0;34m\u001b[0m\u001b[0;34m\u001b[0m\u001b[0m\n\u001b[0m",
            "\u001b[0;32m/usr/local/lib/python3.10/dist-packages/kaggle/api/kaggle_api_extended.py\u001b[0m in \u001b[0;36mauthenticate\u001b[0;34m(self)\u001b[0m\n\u001b[1;32m    162\u001b[0m                 \u001b[0mconfig_data\u001b[0m \u001b[0;34m=\u001b[0m \u001b[0mself\u001b[0m\u001b[0;34m.\u001b[0m\u001b[0mread_config_file\u001b[0m\u001b[0;34m(\u001b[0m\u001b[0mconfig_data\u001b[0m\u001b[0;34m)\u001b[0m\u001b[0;34m\u001b[0m\u001b[0;34m\u001b[0m\u001b[0m\n\u001b[1;32m    163\u001b[0m             \u001b[0;32melse\u001b[0m\u001b[0;34m:\u001b[0m\u001b[0;34m\u001b[0m\u001b[0;34m\u001b[0m\u001b[0m\n\u001b[0;32m--> 164\u001b[0;31m                 raise IOError('Could not find {}. Make sure it\\'s located in'\n\u001b[0m\u001b[1;32m    165\u001b[0m                               ' {}. Or use the environment method.'.format(\n\u001b[1;32m    166\u001b[0m                                   self.config_file, self.config_dir))\n",
            "\u001b[0;31mOSError\u001b[0m: Could not find kaggle.json. Make sure it's located in /root/.kaggle. Or use the environment method."
          ]
        }
      ],
      "source": [
        "# Get data from Kaggle\n",
        "import kaggle"
      ]
    },
    {
      "cell_type": "code",
      "execution_count": null,
      "metadata": {
        "id": "IRKTunB64CvY"
      },
      "outputs": [],
      "source": [
        "! mv kaggle.json /root/.kaggle"
      ]
    },
    {
      "cell_type": "code",
      "execution_count": null,
      "metadata": {
        "colab": {
          "base_uri": "https://localhost:8080/"
        },
        "id": "FeUco5s04KXe",
        "outputId": "644e0e9a-4828-4113-8162-7db3c24d1c25"
      },
      "outputs": [
        {
          "name": "stdout",
          "output_type": "stream",
          "text": [
            "Warning: Your Kaggle API key is readable by other users on this system! To fix this, you can run 'chmod 600 /root/.kaggle/kaggle.json'\n"
          ]
        }
      ],
      "source": [
        "import kaggle"
      ]
    },
    {
      "cell_type": "code",
      "execution_count": null,
      "metadata": {
        "colab": {
          "base_uri": "https://localhost:8080/"
        },
        "id": "55u8IDex4LNS",
        "outputId": "e9b4485a-e298-4d4f-8687-39283243e84d"
      },
      "outputs": [
        {
          "name": "stdout",
          "output_type": "stream",
          "text": [
            "Warning: Your Kaggle API key is readable by other users on this system! To fix this, you can run 'chmod 600 /root/.kaggle/kaggle.json'\n",
            "Downloading dogs-vs-cats.zip to /content\n",
            " 99% 802M/812M [00:06<00:00, 168MB/s]\n",
            "100% 812M/812M [00:06<00:00, 122MB/s]\n"
          ]
        }
      ],
      "source": [
        "! kaggle competitions download -c dogs-vs-cats"
      ]
    },
    {
      "cell_type": "code",
      "execution_count": null,
      "metadata": {
        "id": "QPu-LDQh4SNC"
      },
      "outputs": [],
      "source": [
        "! unzip -q dogs-vs-cats.zip"
      ]
    },
    {
      "cell_type": "code",
      "execution_count": null,
      "metadata": {
        "id": "huYGRlbP4Wdf"
      },
      "outputs": [],
      "source": [
        "! rm -f test1.zip sampleSubmission.csv"
      ]
    },
    {
      "cell_type": "code",
      "execution_count": null,
      "metadata": {
        "id": "thpa8A2r4diD"
      },
      "outputs": [],
      "source": [
        "! unzip -q train.zip"
      ]
    },
    {
      "cell_type": "code",
      "execution_count": null,
      "metadata": {
        "id": "nDsY58y84gLe"
      },
      "outputs": [],
      "source": [
        "# Folder Train is created"
      ]
    },
    {
      "cell_type": "code",
      "execution_count": null,
      "metadata": {
        "id": "5cX6PgtH4mof"
      },
      "outputs": [],
      "source": [
        "import numpy as np\n",
        "import pandas as pd\n",
        "import matplotlib.pyplot as plt\n",
        "import tensorflow as tf"
      ]
    },
    {
      "cell_type": "code",
      "execution_count": null,
      "metadata": {
        "id": "upCFFXpz43XY"
      },
      "outputs": [],
      "source": [
        "# tf.keras.preprocessing.image.ImageDataGenerator()\n",
        "# That Image Data Generator requires you to have data in a particular format!\n",
        "\n",
        "# Master Folder (train_data)\n",
        "# |-> category1 (dogs)\n",
        "#   |-> image1_dog\n",
        "#   |-> image2_dog\n",
        "#   |-> image3_dog\n",
        "# |-> category2 (cats)\n",
        "#   |-> image1_cat\n",
        "#   |-> image2_cat\n",
        "#   |-> image3_cat"
      ]
    },
    {
      "cell_type": "code",
      "execution_count": null,
      "metadata": {
        "id": "BgBHRju_6JL1"
      },
      "outputs": [],
      "source": [
        "import os\n",
        "os.mkdir(\"train_data\")\n",
        "os.mkdir(\"train_data/cat\")\n",
        "os.mkdir(\"train_data/dog\")"
      ]
    },
    {
      "cell_type": "code",
      "execution_count": null,
      "metadata": {
        "id": "-6ZLpZt66X6R"
      },
      "outputs": [],
      "source": [
        "import shutil\n",
        "source_folder = \"train/\"\n",
        "dest_dog = \"train_data/dog\"\n",
        "dest_cat = \"train_data/cat\""
      ]
    },
    {
      "cell_type": "code",
      "execution_count": null,
      "metadata": {
        "id": "Ic8_xZNF7NXg"
      },
      "outputs": [],
      "source": [
        "for imageName in os.listdir(source_folder):\n",
        "  if \"dog\" in imageName:\n",
        "    shutil.copy(source_folder + imageName, dest_dog)\n",
        "  else:\n",
        "    shutil.copy(source_folder + imageName , dest_cat)"
      ]
    },
    {
      "cell_type": "code",
      "execution_count": null,
      "metadata": {
        "colab": {
          "base_uri": "https://localhost:8080/"
        },
        "id": "7hgcfmY679HG",
        "outputId": "171fc7ed-a45c-4cce-8387-472bd4dd4bbf"
      },
      "outputs": [
        {
          "data": {
            "text/plain": [
              "12500"
            ]
          },
          "execution_count": 15,
          "metadata": {},
          "output_type": "execute_result"
        }
      ],
      "source": [
        "len(os.listdir(\"train_data/dog\"))"
      ]
    },
    {
      "cell_type": "code",
      "execution_count": null,
      "metadata": {
        "colab": {
          "base_uri": "https://localhost:8080/"
        },
        "id": "xIEZ4k-Q8IRE",
        "outputId": "86426c9a-bd48-4133-bcd9-951f14ba2996"
      },
      "outputs": [
        {
          "data": {
            "text/plain": [
              "12500"
            ]
          },
          "execution_count": 16,
          "metadata": {},
          "output_type": "execute_result"
        }
      ],
      "source": [
        "len(os.listdir(\"train_data/cat\"))"
      ]
    },
    {
      "cell_type": "code",
      "execution_count": null,
      "metadata": {
        "id": "9iOQmtnM8OsR"
      },
      "outputs": [],
      "source": [
        "# Validation Data\n",
        "# Normalization\n",
        "idg = tf.keras.preprocessing.image.ImageDataGenerator(validation_split=0.1, rescale=1/255.0)"
      ]
    },
    {
      "cell_type": "code",
      "execution_count": null,
      "metadata": {
        "id": "3mf3U7oDFxzg"
      },
      "outputs": [],
      "source": [
        "# del model"
      ]
    },
    {
      "cell_type": "code",
      "execution_count": null,
      "metadata": {
        "colab": {
          "base_uri": "https://localhost:8080/"
        },
        "id": "S3OUhab09ZQa",
        "outputId": "4bd1643e-adbe-44ea-c024-acba4f91afff"
      },
      "outputs": [
        {
          "name": "stdout",
          "output_type": "stream",
          "text": [
            "Found 22500 images belonging to 2 classes.\n"
          ]
        }
      ],
      "source": [
        "batch_size = 512\n",
        "train_idg = idg.flow_from_directory(directory=\"train_data\",\n",
        "                                    target_size=(150, 150),\n",
        "                                    batch_size=batch_size,\n",
        "                                    subset=\"training\")"
      ]
    },
    {
      "cell_type": "code",
      "execution_count": null,
      "metadata": {
        "colab": {
          "base_uri": "https://localhost:8080/"
        },
        "id": "Qi5lGlPP-Trg",
        "outputId": "40950295-5003-488f-b36d-87ec44c7c554"
      },
      "outputs": [
        {
          "name": "stdout",
          "output_type": "stream",
          "text": [
            "Found 2500 images belonging to 2 classes.\n"
          ]
        }
      ],
      "source": [
        "val_idg = idg.flow_from_directory(directory=\"train_data\",\n",
        "                                  target_size=(150, 150),\n",
        "                                  batch_size=batch_size,\n",
        "                                  subset='validation')"
      ]
    },
    {
      "cell_type": "code",
      "execution_count": null,
      "metadata": {
        "colab": {
          "base_uri": "https://localhost:8080/"
        },
        "id": "bV0WzAqj_Tn5",
        "outputId": "d46eaa2d-4bc3-485e-a7e9-71f13fd4c275"
      },
      "outputs": [
        {
          "name": "stdout",
          "output_type": "stream",
          "text": [
            "Model: \"sequential_1\"\n",
            "_________________________________________________________________\n",
            " Layer (type)                Output Shape              Param #   \n",
            "=================================================================\n",
            " Flat (Flatten)              (None, 67500)             0         \n",
            "                                                                 \n",
            " FirstLayer (Dense)          (None, 512)               34560512  \n",
            "                                                                 \n",
            " SecondLayer (Dense)         (None, 64)                32832     \n",
            "                                                                 \n",
            " OutputLayer (Dense)         (None, 2)                 130       \n",
            "                                                                 \n",
            "=================================================================\n",
            "Total params: 34,593,474\n",
            "Trainable params: 34,593,474\n",
            "Non-trainable params: 0\n",
            "_________________________________________________________________\n"
          ]
        }
      ],
      "source": [
        "model = tf.keras.models.Sequential()\n",
        "model.add(tf.keras.layers.Input((150, 150, 3), name=\"InputLayer\"))\n",
        "model.add(tf.keras.layers.Flatten(name=\"Flat\"))\n",
        "model.add(tf.keras.layers.Dense(512, activation=tf.keras.activations.relu, name=\"FirstLayer\"))\n",
        "model.add(tf.keras.layers.Dense(64, activation=tf.keras.activations.relu, name=\"SecondLayer\"))\n",
        "model.add(tf.keras.layers.Dense(2, activation=tf.keras.activations.softmax, name=\"OutputLayer\"))\n",
        "model.summary()"
      ]
    },
    {
      "cell_type": "code",
      "execution_count": null,
      "metadata": {
        "id": "FDzoSY_FFNQP"
      },
      "outputs": [],
      "source": [
        "model.compile(tf.keras.optimizers.SGD(), tf.keras.losses.categorical_crossentropy,\n",
        "              metrics = ['acc'])"
      ]
    },
    {
      "cell_type": "code",
      "execution_count": null,
      "metadata": {
        "colab": {
          "background_save": true,
          "base_uri": "https://localhost:8080/"
        },
        "id": "GHuSilE4E2Bi",
        "outputId": "5158124c-0da2-4717-f8fc-05eca9bf608c"
      },
      "outputs": [
        {
          "name": "stdout",
          "output_type": "stream",
          "text": [
            "Epoch 1/10\n",
            "44/44 [==============================] - 167s 4s/step - loss: 0.9241 - acc: 0.5191 - val_loss: 0.6910 - val_acc: 0.5504\n",
            "Epoch 2/10\n",
            "44/44 [==============================] - 168s 4s/step - loss: 0.6897 - acc: 0.5520 - val_loss: 0.6881 - val_acc: 0.5660\n",
            "Epoch 3/10\n",
            "44/44 [==============================] - 172s 4s/step - loss: 0.6850 - acc: 0.5752 - val_loss: 0.6832 - val_acc: 0.5772\n",
            "Epoch 4/10\n",
            "44/44 [==============================] - 175s 4s/step - loss: 0.6783 - acc: 0.5932 - val_loss: 0.6774 - val_acc: 0.5900\n",
            "Epoch 5/10\n",
            "44/44 [==============================] - 169s 4s/step - loss: 0.6692 - acc: 0.6023 - val_loss: 0.6731 - val_acc: 0.5736\n",
            "Epoch 6/10\n",
            "44/44 [==============================] - 165s 4s/step - loss: 0.6628 - acc: 0.6042 - val_loss: 0.6720 - val_acc: 0.5828\n",
            "Epoch 7/10\n",
            "44/44 [==============================] - 174s 4s/step - loss: 0.6589 - acc: 0.6080 - val_loss: 0.6739 - val_acc: 0.5828\n",
            "Epoch 8/10\n",
            "44/44 [==============================] - 173s 4s/step - loss: 0.6568 - acc: 0.6064 - val_loss: 0.6597 - val_acc: 0.5932\n",
            "Epoch 9/10\n",
            "44/44 [==============================] - 169s 4s/step - loss: 0.6537 - acc: 0.6131 - val_loss: 0.6604 - val_acc: 0.5952\n",
            "Epoch 10/10\n",
            "44/44 [==============================] - 166s 4s/step - loss: 0.6533 - acc: 0.6153 - val_loss: 0.6743 - val_acc: 0.5736\n"
          ]
        },
        {
          "data": {
            "text/plain": [
              "<keras.callbacks.History at 0x7ff596a47820>"
            ]
          },
          "execution_count": 33,
          "metadata": {},
          "output_type": "execute_result"
        }
      ],
      "source": [
        "model.fit(train_idg, batch_size=batch_size, validation_data=val_idg, epochs=10)"
      ]
    },
    {
      "cell_type": "code",
      "execution_count": null,
      "metadata": {
        "id": "dL1aW7dfFLXt"
      },
      "outputs": [],
      "source": []
    }
  ],
  "metadata": {
    "colab": {
      "provenance": []
    },
    "kernelspec": {
      "display_name": "Python 3",
      "name": "python3"
    },
    "language_info": {
      "name": "python"
    }
  },
  "nbformat": 4,
  "nbformat_minor": 0
}
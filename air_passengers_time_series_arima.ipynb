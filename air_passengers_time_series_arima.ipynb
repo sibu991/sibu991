{
 "cells": [
  {
   "cell_type": "markdown",
   "metadata": {
    "id": "IDNMpFouDB9U",
    "papermill": {
     "duration": 0.041397,
     "end_time": "2021-02-21T18:11:06.935903",
     "exception": false,
     "start_time": "2021-02-21T18:11:06.894506",
     "status": "completed"
    },
    "tags": []
   },
   "source": [
    "# Time Series - ARIMA\n",
    "\n",
    "**Time series analysis is a statistical method to analyse the past data within a given duration of time to forecast the future. It comprises of ordered sequence of data at equally spaced interval.To understand the time series data & the analysis let us consider an example. Consider an example of Airline Passenger data. It has the count of passenger over a period of time.**\n",
    "\n",
    "![](https://i.pinimg.com/originals/6e/8a/45/6e8a45b41425813c606412e3b9e78cb8.jpg)"
   ]
  },
  {
   "cell_type": "markdown",
   "metadata": {
    "id": "PpM2sm2FDB9b",
    "papermill": {
     "duration": 0.035943,
     "end_time": "2021-02-21T18:11:07.008207",
     "exception": false,
     "start_time": "2021-02-21T18:11:06.972264",
     "status": "completed"
    },
    "tags": []
   },
   "source": [
    "Here the **Objective** is- Build a model to forecast the demand(passenger traffic) in Airplanes. The data is classified in date/time and the passengers travelling per month\n",
    "\n",
    "**Time Series:**<br>\n",
    "Time Series is a series of observations taken at particular time intervals (usually equal intervals). Analysis of the series helps us to predict future values based on previous observed values. In Time series, we have only 2 variables, time & the variable we want to forecast.\n",
    "\n",
    "**Why & where Time Series is used?**<br>\n",
    "Time series data can be analysed in order to extract meaningful statistics and other charecteristsics. It's used in atleast the 4 scenarios:\n",
    "1. Business Forecasting\n",
    "2. Understanding past behavior\n",
    "3. Plan the future\n",
    "4. Evaluate current accomplishment\n",
    "\n",
    "**Importance of Time Series Analysis:**<br>\n",
    "Ample of time series data is being generated from a variety of fields. And hence the study time series analysis holds a lot of applications. Let us try to understand the importance of time series analysis in different areas.\n",
    "1. Economics\n",
    "2. Finance\n",
    "3. Healthcare\n",
    "4. Environmental Science\n",
    "5. Sales Forecasting\n",
    "\n",
    "**What are the components of Time Series?**<br>\n",
    "There are 4 components:\n",
    "**1. Trend** - Upward & downward movement of the data with time over a large period of time. Eq: Appreciation of Dollar vs rupee.\n",
    "**2. Seasonality** - seasonal variances. Eq: Ice cream sales increases in Summer only\n",
    "**3. Noise or Irregularity** - Spikes & troughs at random intervals\n",
    "**4. Cyclicity** - behavior that repeats itself after large interval of time, like months, years etc.\n",
    "\n",
    "**What is Stationarity?**<br>\n",
    "Before applying any statistical model on a Time Series, the series has to be staionary, which means that, over different time periods,\n",
    "1. It should have constant mean.\n",
    "2. It should have constant variance or standard deviation.\n",
    "3. Auto-covariance should not depend on time.\n",
    "\n",
    "Trend & Seasonality are two reasons why a Time Series is not stationary.\n",
    "\n",
    "**Why does Timeseries has to be Stationary?**<br>\n",
    "Stationary data means mean and standard deviation of data does not change WRT time. The mean across many time periods is only informative if the expected value is the same across those time periods. We make the data stationary in case of ARIMA because the arima model looks at the past data to predict the future values.\n",
    "\n",
    "**Tests to check if a series is stationary or not:**<br>\n",
    "There are 2 ways to check for Stationarity of a Timeseries:<br>\n",
    "**1. Rolling Statistics** - Plot the moving avg(mean) or moving standard deviation to see if it varies with time. It is a visual technique.<br>\n",
    "**2. ADCF Test** - Augmented Dickey–Fuller test is used to gives us various values that can help in identifying stationarity. The Null hypothesis says that a Timeseries is non-stationary. It comprises of a Test Statistics & some critical values for some confidence levels. If the Test statistics is less than the critical values, we can reject the null hypothesis & say that the series is stationary. THE ADCF test also gives us a p-value. Acc to the null hypothesis, lower values of p is better.\n",
    "\n",
    "**What Is ADCF test?**<br>\n",
    "In statistics and econometrics, an augmented Dickey–Fuller test (ADF) tests the null hypothesis that a unit root is present in a time series sample. The alternative hypothesis is different depending on which version of the test is used, but is usually stationarity or trend-stationarity. It is an augmented version of the Dickey–Fuller test for a larger and more complicated set of time series models.\n",
    "\n",
    "The augmented Dickey–Fuller (ADF) statistic, used in the test, is a negative number. The more negative it is, the stronger the rejection of the hypothesis that there is a unit root at some level of confidence.\n",
    "\n",
    "p value(0<=p<=1) should be as low as possible. Critical values at different confidence intervals should be close to the Test statistics value.\n",
    "\n",
    "**What is ARIMA model?**<br>\n",
    "ARIMA(Auto Regressive Integrated Moving Average) is a combination of 2 models AR(Auto Regressive) & MA(Moving Average). It has 3 hyperparameters - P(auto regressive lags), d(order of differentiation) and Q(moving avg.) which respectively comes from the AR, I & MA components. The AR part is correlation between prev & current time periods. To smooth out the noise, the MA part is used. The I part binds together the AR & MA parts.\n",
    "\n",
    "**How to find value of P & Q for ARIMA ?**<br>\n",
    "We need to take help of **ACF(Auto Correlation Function)** & **PACF(Partial Auto Correlation Function)** plots. ACF & PACF graphs are used to find value of P & Q for ARIMA. We need to check, for which value in x-axis, graph line drops to 0 in y-axis for 1st time.\n",
    "From PACF(at y=0), get P\n",
    "From ACF(at y=0), get Q\n",
    "\n",
    "**What is Exponential Smoothing?**<br>\n",
    "Exponential smoothing is a rule of thumb technique for smoothing time series data using the exponential window function. Whereas in the simple moving average the past observations are weighted equally, exponential functions are used to assign exponentially decreasing weights over time. It is an easily learned and easily applied procedure for making some determination based on prior assumptions by the user, such as seasonality. Exponential smoothing is often used for analysis of time-series data."
   ]
  },
  {
   "cell_type": "markdown",
   "metadata": {
    "id": "nSR74ke6DB9l",
    "papermill": {
     "duration": 0.036395,
     "end_time": "2021-02-21T18:11:07.081516",
     "exception": false,
     "start_time": "2021-02-21T18:11:07.045121",
     "status": "completed"
    },
    "tags": []
   },
   "source": [
    "**Loading the basic libraries**"
   ]
  },
  {
   "cell_type": "code",
   "execution_count": 37,
   "metadata": {
    "_cell_guid": "b1076dfc-b9ad-4769-8c92-a6c4dae69d19",
    "_uuid": "8f2839f25d086af736a60e9eeb907d3b93b6e0e5",
    "execution": {
     "iopub.execute_input": "2021-02-21T18:11:07.163795Z",
     "iopub.status.busy": "2021-02-21T18:11:07.163077Z",
     "iopub.status.idle": "2021-02-21T18:11:08.236671Z",
     "shell.execute_reply": "2021-02-21T18:11:08.235494Z"
    },
    "id": "742TJj1RDB9p",
    "papermill": {
     "duration": 1.118385,
     "end_time": "2021-02-21T18:11:08.236894",
     "exception": false,
     "start_time": "2021-02-21T18:11:07.118509",
     "status": "completed"
    },
    "tags": []
   },
   "outputs": [],
   "source": [
    "import pandas as pd\n",
    "import numpy as np \n",
    "import seaborn as sns\n",
    "import matplotlib.pyplot as plt\n",
    "%matplotlib inline\n",
    "\n",
    "import warnings\n",
    "warnings.filterwarnings('ignore')\n",
    "\n",
    "from statsmodels.tsa.stattools import adfuller\n",
    "from statsmodels.tsa.seasonal import seasonal_decompose\n",
    "from statsmodels.tsa.stattools import acf, pacf\n",
    "from statsmodels.tsa.arima.model import ARIMA"
   ]
  },
  {
   "cell_type": "markdown",
   "metadata": {
    "id": "tu1Ta9XsDB9t",
    "papermill": {
     "duration": 0.036002,
     "end_time": "2021-02-21T18:11:08.310524",
     "exception": false,
     "start_time": "2021-02-21T18:11:08.274522",
     "status": "completed"
    },
    "tags": []
   },
   "source": [
    "**Loading AirPassenger data set**"
   ]
  },
  {
   "cell_type": "code",
   "execution_count": 2,
   "metadata": {
    "execution": {
     "iopub.execute_input": "2021-02-21T18:11:08.388767Z",
     "iopub.status.busy": "2021-02-21T18:11:08.388114Z",
     "iopub.status.idle": "2021-02-21T18:11:08.409168Z",
     "shell.execute_reply": "2021-02-21T18:11:08.409694Z"
    },
    "id": "6VZUBbP4DB9v",
    "papermill": {
     "duration": 0.063235,
     "end_time": "2021-02-21T18:11:08.409905",
     "exception": false,
     "start_time": "2021-02-21T18:11:08.346670",
     "status": "completed"
    },
    "tags": []
   },
   "outputs": [],
   "source": [
    "airpass = pd.read_csv('AirPassengers.csv')"
   ]
  },
  {
   "cell_type": "markdown",
   "metadata": {
    "id": "F1OnvNmwDB9w",
    "papermill": {
     "duration": 0.036204,
     "end_time": "2021-02-21T18:11:08.482713",
     "exception": false,
     "start_time": "2021-02-21T18:11:08.446509",
     "status": "completed"
    },
    "tags": []
   },
   "source": [
    "**Let's check first 5 and last 5 records of data set**"
   ]
  },
  {
   "cell_type": "code",
   "execution_count": 3,
   "metadata": {
    "colab": {
     "base_uri": "https://localhost:8080/",
     "height": 206
    },
    "execution": {
     "iopub.execute_input": "2021-02-21T18:11:08.570092Z",
     "iopub.status.busy": "2021-02-21T18:11:08.569283Z",
     "iopub.status.idle": "2021-02-21T18:11:08.667145Z",
     "shell.execute_reply": "2021-02-21T18:11:08.666453Z"
    },
    "id": "OOiduBt_DB9x",
    "outputId": "9cad3997-cafa-43fe-dfae-40d94160b108",
    "papermill": {
     "duration": 0.148253,
     "end_time": "2021-02-21T18:11:08.667291",
     "exception": false,
     "start_time": "2021-02-21T18:11:08.519038",
     "status": "completed"
    },
    "tags": []
   },
   "outputs": [
    {
     "data": {
      "text/html": [
       "\n",
       "  <div id=\"df-c6ca68a7-963b-4c5b-acd2-5040bffed447\">\n",
       "    <div class=\"colab-df-container\">\n",
       "      <div>\n",
       "<style scoped>\n",
       "    .dataframe tbody tr th:only-of-type {\n",
       "        vertical-align: middle;\n",
       "    }\n",
       "\n",
       "    .dataframe tbody tr th {\n",
       "        vertical-align: top;\n",
       "    }\n",
       "\n",
       "    .dataframe thead th {\n",
       "        text-align: right;\n",
       "    }\n",
       "</style>\n",
       "<table border=\"1\" class=\"dataframe\">\n",
       "  <thead>\n",
       "    <tr style=\"text-align: right;\">\n",
       "      <th></th>\n",
       "      <th>Month</th>\n",
       "      <th>#Passengers</th>\n",
       "    </tr>\n",
       "  </thead>\n",
       "  <tbody>\n",
       "    <tr>\n",
       "      <th>0</th>\n",
       "      <td>1949-01</td>\n",
       "      <td>112</td>\n",
       "    </tr>\n",
       "    <tr>\n",
       "      <th>1</th>\n",
       "      <td>1949-02</td>\n",
       "      <td>118</td>\n",
       "    </tr>\n",
       "    <tr>\n",
       "      <th>2</th>\n",
       "      <td>1949-03</td>\n",
       "      <td>132</td>\n",
       "    </tr>\n",
       "    <tr>\n",
       "      <th>3</th>\n",
       "      <td>1949-04</td>\n",
       "      <td>129</td>\n",
       "    </tr>\n",
       "    <tr>\n",
       "      <th>4</th>\n",
       "      <td>1949-05</td>\n",
       "      <td>121</td>\n",
       "    </tr>\n",
       "  </tbody>\n",
       "</table>\n",
       "</div>\n",
       "      <button class=\"colab-df-convert\" onclick=\"convertToInteractive('df-c6ca68a7-963b-4c5b-acd2-5040bffed447')\"\n",
       "              title=\"Convert this dataframe to an interactive table.\"\n",
       "              style=\"display:none;\">\n",
       "        \n",
       "  <svg xmlns=\"http://www.w3.org/2000/svg\" height=\"24px\"viewBox=\"0 0 24 24\"\n",
       "       width=\"24px\">\n",
       "    <path d=\"M0 0h24v24H0V0z\" fill=\"none\"/>\n",
       "    <path d=\"M18.56 5.44l.94 2.06.94-2.06 2.06-.94-2.06-.94-.94-2.06-.94 2.06-2.06.94zm-11 1L8.5 8.5l.94-2.06 2.06-.94-2.06-.94L8.5 2.5l-.94 2.06-2.06.94zm10 10l.94 2.06.94-2.06 2.06-.94-2.06-.94-.94-2.06-.94 2.06-2.06.94z\"/><path d=\"M17.41 7.96l-1.37-1.37c-.4-.4-.92-.59-1.43-.59-.52 0-1.04.2-1.43.59L10.3 9.45l-7.72 7.72c-.78.78-.78 2.05 0 2.83L4 21.41c.39.39.9.59 1.41.59.51 0 1.02-.2 1.41-.59l7.78-7.78 2.81-2.81c.8-.78.8-2.07 0-2.86zM5.41 20L4 18.59l7.72-7.72 1.47 1.35L5.41 20z\"/>\n",
       "  </svg>\n",
       "      </button>\n",
       "      \n",
       "  <style>\n",
       "    .colab-df-container {\n",
       "      display:flex;\n",
       "      flex-wrap:wrap;\n",
       "      gap: 12px;\n",
       "    }\n",
       "\n",
       "    .colab-df-convert {\n",
       "      background-color: #E8F0FE;\n",
       "      border: none;\n",
       "      border-radius: 50%;\n",
       "      cursor: pointer;\n",
       "      display: none;\n",
       "      fill: #1967D2;\n",
       "      height: 32px;\n",
       "      padding: 0 0 0 0;\n",
       "      width: 32px;\n",
       "    }\n",
       "\n",
       "    .colab-df-convert:hover {\n",
       "      background-color: #E2EBFA;\n",
       "      box-shadow: 0px 1px 2px rgba(60, 64, 67, 0.3), 0px 1px 3px 1px rgba(60, 64, 67, 0.15);\n",
       "      fill: #174EA6;\n",
       "    }\n",
       "\n",
       "    [theme=dark] .colab-df-convert {\n",
       "      background-color: #3B4455;\n",
       "      fill: #D2E3FC;\n",
       "    }\n",
       "\n",
       "    [theme=dark] .colab-df-convert:hover {\n",
       "      background-color: #434B5C;\n",
       "      box-shadow: 0px 1px 3px 1px rgba(0, 0, 0, 0.15);\n",
       "      filter: drop-shadow(0px 1px 2px rgba(0, 0, 0, 0.3));\n",
       "      fill: #FFFFFF;\n",
       "    }\n",
       "  </style>\n",
       "\n",
       "      <script>\n",
       "        const buttonEl =\n",
       "          document.querySelector('#df-c6ca68a7-963b-4c5b-acd2-5040bffed447 button.colab-df-convert');\n",
       "        buttonEl.style.display =\n",
       "          google.colab.kernel.accessAllowed ? 'block' : 'none';\n",
       "\n",
       "        async function convertToInteractive(key) {\n",
       "          const element = document.querySelector('#df-c6ca68a7-963b-4c5b-acd2-5040bffed447');\n",
       "          const dataTable =\n",
       "            await google.colab.kernel.invokeFunction('convertToInteractive',\n",
       "                                                     [key], {});\n",
       "          if (!dataTable) return;\n",
       "\n",
       "          const docLinkHtml = 'Like what you see? Visit the ' +\n",
       "            '<a target=\"_blank\" href=https://colab.research.google.com/notebooks/data_table.ipynb>data table notebook</a>'\n",
       "            + ' to learn more about interactive tables.';\n",
       "          element.innerHTML = '';\n",
       "          dataTable['output_type'] = 'display_data';\n",
       "          await google.colab.output.renderOutput(dataTable, element);\n",
       "          const docLink = document.createElement('div');\n",
       "          docLink.innerHTML = docLinkHtml;\n",
       "          element.appendChild(docLink);\n",
       "        }\n",
       "      </script>\n",
       "    </div>\n",
       "  </div>\n",
       "  "
      ],
      "text/plain": [
       "     Month  #Passengers\n",
       "0  1949-01          112\n",
       "1  1949-02          118\n",
       "2  1949-03          132\n",
       "3  1949-04          129\n",
       "4  1949-05          121"
      ]
     },
     "execution_count": 3,
     "metadata": {},
     "output_type": "execute_result"
    }
   ],
   "source": [
    "airpass.head(5)"
   ]
  },
  {
   "cell_type": "code",
   "execution_count": 4,
   "metadata": {
    "colab": {
     "base_uri": "https://localhost:8080/",
     "height": 206
    },
    "execution": {
     "iopub.execute_input": "2021-02-21T18:11:08.752957Z",
     "iopub.status.busy": "2021-02-21T18:11:08.752069Z",
     "iopub.status.idle": "2021-02-21T18:11:08.756571Z",
     "shell.execute_reply": "2021-02-21T18:11:08.756012Z"
    },
    "id": "P_x7r-ZoDB92",
    "outputId": "0cd290f5-4fe2-463f-ee2f-0adb6cbb7056",
    "papermill": {
     "duration": 0.051108,
     "end_time": "2021-02-21T18:11:08.756719",
     "exception": false,
     "start_time": "2021-02-21T18:11:08.705611",
     "status": "completed"
    },
    "tags": []
   },
   "outputs": [
    {
     "data": {
      "text/html": [
       "\n",
       "  <div id=\"df-9ec38a64-66c8-40f1-942f-04fe28d83604\">\n",
       "    <div class=\"colab-df-container\">\n",
       "      <div>\n",
       "<style scoped>\n",
       "    .dataframe tbody tr th:only-of-type {\n",
       "        vertical-align: middle;\n",
       "    }\n",
       "\n",
       "    .dataframe tbody tr th {\n",
       "        vertical-align: top;\n",
       "    }\n",
       "\n",
       "    .dataframe thead th {\n",
       "        text-align: right;\n",
       "    }\n",
       "</style>\n",
       "<table border=\"1\" class=\"dataframe\">\n",
       "  <thead>\n",
       "    <tr style=\"text-align: right;\">\n",
       "      <th></th>\n",
       "      <th>Month</th>\n",
       "      <th>#Passengers</th>\n",
       "    </tr>\n",
       "  </thead>\n",
       "  <tbody>\n",
       "    <tr>\n",
       "      <th>139</th>\n",
       "      <td>1960-08</td>\n",
       "      <td>606</td>\n",
       "    </tr>\n",
       "    <tr>\n",
       "      <th>140</th>\n",
       "      <td>1960-09</td>\n",
       "      <td>508</td>\n",
       "    </tr>\n",
       "    <tr>\n",
       "      <th>141</th>\n",
       "      <td>1960-10</td>\n",
       "      <td>461</td>\n",
       "    </tr>\n",
       "    <tr>\n",
       "      <th>142</th>\n",
       "      <td>1960-11</td>\n",
       "      <td>390</td>\n",
       "    </tr>\n",
       "    <tr>\n",
       "      <th>143</th>\n",
       "      <td>1960-12</td>\n",
       "      <td>432</td>\n",
       "    </tr>\n",
       "  </tbody>\n",
       "</table>\n",
       "</div>\n",
       "      <button class=\"colab-df-convert\" onclick=\"convertToInteractive('df-9ec38a64-66c8-40f1-942f-04fe28d83604')\"\n",
       "              title=\"Convert this dataframe to an interactive table.\"\n",
       "              style=\"display:none;\">\n",
       "        \n",
       "  <svg xmlns=\"http://www.w3.org/2000/svg\" height=\"24px\"viewBox=\"0 0 24 24\"\n",
       "       width=\"24px\">\n",
       "    <path d=\"M0 0h24v24H0V0z\" fill=\"none\"/>\n",
       "    <path d=\"M18.56 5.44l.94 2.06.94-2.06 2.06-.94-2.06-.94-.94-2.06-.94 2.06-2.06.94zm-11 1L8.5 8.5l.94-2.06 2.06-.94-2.06-.94L8.5 2.5l-.94 2.06-2.06.94zm10 10l.94 2.06.94-2.06 2.06-.94-2.06-.94-.94-2.06-.94 2.06-2.06.94z\"/><path d=\"M17.41 7.96l-1.37-1.37c-.4-.4-.92-.59-1.43-.59-.52 0-1.04.2-1.43.59L10.3 9.45l-7.72 7.72c-.78.78-.78 2.05 0 2.83L4 21.41c.39.39.9.59 1.41.59.51 0 1.02-.2 1.41-.59l7.78-7.78 2.81-2.81c.8-.78.8-2.07 0-2.86zM5.41 20L4 18.59l7.72-7.72 1.47 1.35L5.41 20z\"/>\n",
       "  </svg>\n",
       "      </button>\n",
       "      \n",
       "  <style>\n",
       "    .colab-df-container {\n",
       "      display:flex;\n",
       "      flex-wrap:wrap;\n",
       "      gap: 12px;\n",
       "    }\n",
       "\n",
       "    .colab-df-convert {\n",
       "      background-color: #E8F0FE;\n",
       "      border: none;\n",
       "      border-radius: 50%;\n",
       "      cursor: pointer;\n",
       "      display: none;\n",
       "      fill: #1967D2;\n",
       "      height: 32px;\n",
       "      padding: 0 0 0 0;\n",
       "      width: 32px;\n",
       "    }\n",
       "\n",
       "    .colab-df-convert:hover {\n",
       "      background-color: #E2EBFA;\n",
       "      box-shadow: 0px 1px 2px rgba(60, 64, 67, 0.3), 0px 1px 3px 1px rgba(60, 64, 67, 0.15);\n",
       "      fill: #174EA6;\n",
       "    }\n",
       "\n",
       "    [theme=dark] .colab-df-convert {\n",
       "      background-color: #3B4455;\n",
       "      fill: #D2E3FC;\n",
       "    }\n",
       "\n",
       "    [theme=dark] .colab-df-convert:hover {\n",
       "      background-color: #434B5C;\n",
       "      box-shadow: 0px 1px 3px 1px rgba(0, 0, 0, 0.15);\n",
       "      filter: drop-shadow(0px 1px 2px rgba(0, 0, 0, 0.3));\n",
       "      fill: #FFFFFF;\n",
       "    }\n",
       "  </style>\n",
       "\n",
       "      <script>\n",
       "        const buttonEl =\n",
       "          document.querySelector('#df-9ec38a64-66c8-40f1-942f-04fe28d83604 button.colab-df-convert');\n",
       "        buttonEl.style.display =\n",
       "          google.colab.kernel.accessAllowed ? 'block' : 'none';\n",
       "\n",
       "        async function convertToInteractive(key) {\n",
       "          const element = document.querySelector('#df-9ec38a64-66c8-40f1-942f-04fe28d83604');\n",
       "          const dataTable =\n",
       "            await google.colab.kernel.invokeFunction('convertToInteractive',\n",
       "                                                     [key], {});\n",
       "          if (!dataTable) return;\n",
       "\n",
       "          const docLinkHtml = 'Like what you see? Visit the ' +\n",
       "            '<a target=\"_blank\" href=https://colab.research.google.com/notebooks/data_table.ipynb>data table notebook</a>'\n",
       "            + ' to learn more about interactive tables.';\n",
       "          element.innerHTML = '';\n",
       "          dataTable['output_type'] = 'display_data';\n",
       "          await google.colab.output.renderOutput(dataTable, element);\n",
       "          const docLink = document.createElement('div');\n",
       "          docLink.innerHTML = docLinkHtml;\n",
       "          element.appendChild(docLink);\n",
       "        }\n",
       "      </script>\n",
       "    </div>\n",
       "  </div>\n",
       "  "
      ],
      "text/plain": [
       "       Month  #Passengers\n",
       "139  1960-08          606\n",
       "140  1960-09          508\n",
       "141  1960-10          461\n",
       "142  1960-11          390\n",
       "143  1960-12          432"
      ]
     },
     "execution_count": 4,
     "metadata": {},
     "output_type": "execute_result"
    }
   ],
   "source": [
    "airpass.tail(5)"
   ]
  },
  {
   "cell_type": "markdown",
   "metadata": {
    "id": "asLBETGRDB95",
    "papermill": {
     "duration": 0.037582,
     "end_time": "2021-02-21T18:11:08.832364",
     "exception": false,
     "start_time": "2021-02-21T18:11:08.794782",
     "status": "completed"
    },
    "tags": []
   },
   "source": [
    "**Let's rename \"#Passengers\", seems really annoying the column name.**"
   ]
  },
  {
   "cell_type": "code",
   "execution_count": 5,
   "metadata": {
    "execution": {
     "iopub.execute_input": "2021-02-21T18:11:08.915645Z",
     "iopub.status.busy": "2021-02-21T18:11:08.914630Z",
     "iopub.status.idle": "2021-02-21T18:11:08.917949Z",
     "shell.execute_reply": "2021-02-21T18:11:08.917263Z"
    },
    "id": "NQ-vuPZGDB96",
    "papermill": {
     "duration": 0.047031,
     "end_time": "2021-02-21T18:11:08.918110",
     "exception": false,
     "start_time": "2021-02-21T18:11:08.871079",
     "status": "completed"
    },
    "tags": []
   },
   "outputs": [],
   "source": [
    "airpass.rename(columns={'#Passengers':'Passengers'},inplace=True)"
   ]
  },
  {
   "cell_type": "code",
   "execution_count": 7,
   "metadata": {
    "colab": {
     "base_uri": "https://localhost:8080/",
     "height": 206
    },
    "execution": {
     "iopub.execute_input": "2021-02-21T18:11:09.006363Z",
     "iopub.status.busy": "2021-02-21T18:11:09.005460Z",
     "iopub.status.idle": "2021-02-21T18:11:09.010407Z",
     "shell.execute_reply": "2021-02-21T18:11:09.009853Z"
    },
    "id": "ZqNFZaVWDB97",
    "outputId": "39182fa0-7914-4080-f35b-bd1fb22e7920",
    "papermill": {
     "duration": 0.052966,
     "end_time": "2021-02-21T18:11:09.010584",
     "exception": false,
     "start_time": "2021-02-21T18:11:08.957618",
     "status": "completed"
    },
    "tags": []
   },
   "outputs": [
    {
     "data": {
      "text/html": [
       "\n",
       "  <div id=\"df-d377c87d-c553-4086-a4b3-565dd244d878\">\n",
       "    <div class=\"colab-df-container\">\n",
       "      <div>\n",
       "<style scoped>\n",
       "    .dataframe tbody tr th:only-of-type {\n",
       "        vertical-align: middle;\n",
       "    }\n",
       "\n",
       "    .dataframe tbody tr th {\n",
       "        vertical-align: top;\n",
       "    }\n",
       "\n",
       "    .dataframe thead th {\n",
       "        text-align: right;\n",
       "    }\n",
       "</style>\n",
       "<table border=\"1\" class=\"dataframe\">\n",
       "  <thead>\n",
       "    <tr style=\"text-align: right;\">\n",
       "      <th></th>\n",
       "      <th>Month</th>\n",
       "      <th>Passengers</th>\n",
       "    </tr>\n",
       "  </thead>\n",
       "  <tbody>\n",
       "    <tr>\n",
       "      <th>0</th>\n",
       "      <td>1949-01</td>\n",
       "      <td>112</td>\n",
       "    </tr>\n",
       "    <tr>\n",
       "      <th>1</th>\n",
       "      <td>1949-02</td>\n",
       "      <td>118</td>\n",
       "    </tr>\n",
       "    <tr>\n",
       "      <th>2</th>\n",
       "      <td>1949-03</td>\n",
       "      <td>132</td>\n",
       "    </tr>\n",
       "    <tr>\n",
       "      <th>3</th>\n",
       "      <td>1949-04</td>\n",
       "      <td>129</td>\n",
       "    </tr>\n",
       "    <tr>\n",
       "      <th>4</th>\n",
       "      <td>1949-05</td>\n",
       "      <td>121</td>\n",
       "    </tr>\n",
       "  </tbody>\n",
       "</table>\n",
       "</div>\n",
       "      <button class=\"colab-df-convert\" onclick=\"convertToInteractive('df-d377c87d-c553-4086-a4b3-565dd244d878')\"\n",
       "              title=\"Convert this dataframe to an interactive table.\"\n",
       "              style=\"display:none;\">\n",
       "        \n",
       "  <svg xmlns=\"http://www.w3.org/2000/svg\" height=\"24px\"viewBox=\"0 0 24 24\"\n",
       "       width=\"24px\">\n",
       "    <path d=\"M0 0h24v24H0V0z\" fill=\"none\"/>\n",
       "    <path d=\"M18.56 5.44l.94 2.06.94-2.06 2.06-.94-2.06-.94-.94-2.06-.94 2.06-2.06.94zm-11 1L8.5 8.5l.94-2.06 2.06-.94-2.06-.94L8.5 2.5l-.94 2.06-2.06.94zm10 10l.94 2.06.94-2.06 2.06-.94-2.06-.94-.94-2.06-.94 2.06-2.06.94z\"/><path d=\"M17.41 7.96l-1.37-1.37c-.4-.4-.92-.59-1.43-.59-.52 0-1.04.2-1.43.59L10.3 9.45l-7.72 7.72c-.78.78-.78 2.05 0 2.83L4 21.41c.39.39.9.59 1.41.59.51 0 1.02-.2 1.41-.59l7.78-7.78 2.81-2.81c.8-.78.8-2.07 0-2.86zM5.41 20L4 18.59l7.72-7.72 1.47 1.35L5.41 20z\"/>\n",
       "  </svg>\n",
       "      </button>\n",
       "      \n",
       "  <style>\n",
       "    .colab-df-container {\n",
       "      display:flex;\n",
       "      flex-wrap:wrap;\n",
       "      gap: 12px;\n",
       "    }\n",
       "\n",
       "    .colab-df-convert {\n",
       "      background-color: #E8F0FE;\n",
       "      border: none;\n",
       "      border-radius: 50%;\n",
       "      cursor: pointer;\n",
       "      display: none;\n",
       "      fill: #1967D2;\n",
       "      height: 32px;\n",
       "      padding: 0 0 0 0;\n",
       "      width: 32px;\n",
       "    }\n",
       "\n",
       "    .colab-df-convert:hover {\n",
       "      background-color: #E2EBFA;\n",
       "      box-shadow: 0px 1px 2px rgba(60, 64, 67, 0.3), 0px 1px 3px 1px rgba(60, 64, 67, 0.15);\n",
       "      fill: #174EA6;\n",
       "    }\n",
       "\n",
       "    [theme=dark] .colab-df-convert {\n",
       "      background-color: #3B4455;\n",
       "      fill: #D2E3FC;\n",
       "    }\n",
       "\n",
       "    [theme=dark] .colab-df-convert:hover {\n",
       "      background-color: #434B5C;\n",
       "      box-shadow: 0px 1px 3px 1px rgba(0, 0, 0, 0.15);\n",
       "      filter: drop-shadow(0px 1px 2px rgba(0, 0, 0, 0.3));\n",
       "      fill: #FFFFFF;\n",
       "    }\n",
       "  </style>\n",
       "\n",
       "      <script>\n",
       "        const buttonEl =\n",
       "          document.querySelector('#df-d377c87d-c553-4086-a4b3-565dd244d878 button.colab-df-convert');\n",
       "        buttonEl.style.display =\n",
       "          google.colab.kernel.accessAllowed ? 'block' : 'none';\n",
       "\n",
       "        async function convertToInteractive(key) {\n",
       "          const element = document.querySelector('#df-d377c87d-c553-4086-a4b3-565dd244d878');\n",
       "          const dataTable =\n",
       "            await google.colab.kernel.invokeFunction('convertToInteractive',\n",
       "                                                     [key], {});\n",
       "          if (!dataTable) return;\n",
       "\n",
       "          const docLinkHtml = 'Like what you see? Visit the ' +\n",
       "            '<a target=\"_blank\" href=https://colab.research.google.com/notebooks/data_table.ipynb>data table notebook</a>'\n",
       "            + ' to learn more about interactive tables.';\n",
       "          element.innerHTML = '';\n",
       "          dataTable['output_type'] = 'display_data';\n",
       "          await google.colab.output.renderOutput(dataTable, element);\n",
       "          const docLink = document.createElement('div');\n",
       "          docLink.innerHTML = docLinkHtml;\n",
       "          element.appendChild(docLink);\n",
       "        }\n",
       "      </script>\n",
       "    </div>\n",
       "  </div>\n",
       "  "
      ],
      "text/plain": [
       "     Month  Passengers\n",
       "0  1949-01         112\n",
       "1  1949-02         118\n",
       "2  1949-03         132\n",
       "3  1949-04         129\n",
       "4  1949-05         121"
      ]
     },
     "execution_count": 7,
     "metadata": {},
     "output_type": "execute_result"
    }
   ],
   "source": [
    "airpass.head()"
   ]
  },
  {
   "cell_type": "code",
   "execution_count": 8,
   "metadata": {
    "colab": {
     "base_uri": "https://localhost:8080/"
    },
    "execution": {
     "iopub.execute_input": "2021-02-21T18:11:09.094547Z",
     "iopub.status.busy": "2021-02-21T18:11:09.093574Z",
     "iopub.status.idle": "2021-02-21T18:11:09.097592Z",
     "shell.execute_reply": "2021-02-21T18:11:09.098033Z"
    },
    "id": "cl3A0TnTDB97",
    "outputId": "c1ddf7e2-4947-434c-f435-bc162bafdce5",
    "papermill": {
     "duration": 0.048126,
     "end_time": "2021-02-21T18:11:09.098202",
     "exception": false,
     "start_time": "2021-02-21T18:11:09.050076",
     "status": "completed"
    },
    "tags": []
   },
   "outputs": [
    {
     "data": {
      "text/plain": [
       "(144, 2)"
      ]
     },
     "execution_count": 8,
     "metadata": {},
     "output_type": "execute_result"
    }
   ],
   "source": [
    "airpass.shape"
   ]
  },
  {
   "cell_type": "code",
   "execution_count": 9,
   "metadata": {
    "colab": {
     "base_uri": "https://localhost:8080/"
    },
    "execution": {
     "iopub.execute_input": "2021-02-21T18:11:09.195445Z",
     "iopub.status.busy": "2021-02-21T18:11:09.194629Z",
     "iopub.status.idle": "2021-02-21T18:11:09.197748Z",
     "shell.execute_reply": "2021-02-21T18:11:09.198644Z"
    },
    "id": "N5S3sbXWDB98",
    "outputId": "cba8d384-2360-4c56-a1df-d126fe9ab090",
    "papermill": {
     "duration": 0.061309,
     "end_time": "2021-02-21T18:11:09.198886",
     "exception": false,
     "start_time": "2021-02-21T18:11:09.137577",
     "status": "completed"
    },
    "tags": []
   },
   "outputs": [
    {
     "name": "stdout",
     "output_type": "stream",
     "text": [
      "<class 'pandas.core.frame.DataFrame'>\n",
      "RangeIndex: 144 entries, 0 to 143\n",
      "Data columns (total 2 columns):\n",
      " #   Column      Non-Null Count  Dtype \n",
      "---  ------      --------------  ----- \n",
      " 0   Month       144 non-null    object\n",
      " 1   Passengers  144 non-null    int64 \n",
      "dtypes: int64(1), object(1)\n",
      "memory usage: 2.4+ KB\n"
     ]
    }
   ],
   "source": [
    "airpass.info()"
   ]
  },
  {
   "cell_type": "markdown",
   "metadata": {
    "id": "KWSHbr5NDB99",
    "papermill": {
     "duration": 0.039636,
     "end_time": "2021-02-21T18:11:09.279656",
     "exception": false,
     "start_time": "2021-02-21T18:11:09.240020",
     "status": "completed"
    },
    "tags": []
   },
   "source": [
    "**There are 144 records in 2 datasets and 2 columns. There are no null records present. But, look at the Month column. We need to convert them in to datetime datatype.**"
   ]
  },
  {
   "cell_type": "code",
   "execution_count": 10,
   "metadata": {
    "execution": {
     "iopub.execute_input": "2021-02-21T18:11:09.362244Z",
     "iopub.status.busy": "2021-02-21T18:11:09.361658Z",
     "iopub.status.idle": "2021-02-21T18:11:09.370974Z",
     "shell.execute_reply": "2021-02-21T18:11:09.371547Z"
    },
    "id": "ebvTaD3-DB9-",
    "papermill": {
     "duration": 0.052546,
     "end_time": "2021-02-21T18:11:09.371724",
     "exception": false,
     "start_time": "2021-02-21T18:11:09.319178",
     "status": "completed"
    },
    "tags": []
   },
   "outputs": [],
   "source": [
    "from datetime import datetime\n",
    "airpass['Month']=pd.to_datetime(airpass['Month'],infer_datetime_format=True)"
   ]
  },
  {
   "cell_type": "code",
   "execution_count": 11,
   "metadata": {
    "colab": {
     "base_uri": "https://localhost:8080/"
    },
    "execution": {
     "iopub.execute_input": "2021-02-21T18:11:09.454557Z",
     "iopub.status.busy": "2021-02-21T18:11:09.453823Z",
     "iopub.status.idle": "2021-02-21T18:11:09.466455Z",
     "shell.execute_reply": "2021-02-21T18:11:09.467283Z"
    },
    "id": "b_EwaHkmDB9_",
    "outputId": "56d66d9e-62b4-4b4e-e748-4b65311410bf",
    "papermill": {
     "duration": 0.055911,
     "end_time": "2021-02-21T18:11:09.467572",
     "exception": false,
     "start_time": "2021-02-21T18:11:09.411661",
     "status": "completed"
    },
    "tags": []
   },
   "outputs": [
    {
     "name": "stdout",
     "output_type": "stream",
     "text": [
      "<class 'pandas.core.frame.DataFrame'>\n",
      "RangeIndex: 144 entries, 0 to 143\n",
      "Data columns (total 2 columns):\n",
      " #   Column      Non-Null Count  Dtype         \n",
      "---  ------      --------------  -----         \n",
      " 0   Month       144 non-null    datetime64[ns]\n",
      " 1   Passengers  144 non-null    int64         \n",
      "dtypes: datetime64[ns](1), int64(1)\n",
      "memory usage: 2.4 KB\n"
     ]
    }
   ],
   "source": [
    "airpass.info()"
   ]
  },
  {
   "cell_type": "markdown",
   "metadata": {
    "id": "515eI2l6DB-B",
    "papermill": {
     "duration": 0.040263,
     "end_time": "2021-02-21T18:11:09.549289",
     "exception": false,
     "start_time": "2021-02-21T18:11:09.509026",
     "status": "completed"
    },
    "tags": []
   },
   "source": [
    "**Now, we will need to index Month column.**"
   ]
  },
  {
   "cell_type": "code",
   "execution_count": 12,
   "metadata": {
    "execution": {
     "iopub.execute_input": "2021-02-21T18:11:09.637857Z",
     "iopub.status.busy": "2021-02-21T18:11:09.637160Z",
     "iopub.status.idle": "2021-02-21T18:11:09.641720Z",
     "shell.execute_reply": "2021-02-21T18:11:09.642232Z"
    },
    "id": "AhyHEUG6DB-C",
    "papermill": {
     "duration": 0.053148,
     "end_time": "2021-02-21T18:11:09.642409",
     "exception": false,
     "start_time": "2021-02-21T18:11:09.589261",
     "status": "completed"
    },
    "tags": []
   },
   "outputs": [],
   "source": [
    "airpassind = airpass.set_index('Month',inplace=False)"
   ]
  },
  {
   "cell_type": "code",
   "execution_count": 13,
   "metadata": {
    "colab": {
     "base_uri": "https://localhost:8080/",
     "height": 237
    },
    "execution": {
     "iopub.execute_input": "2021-02-21T18:11:09.728141Z",
     "iopub.status.busy": "2021-02-21T18:11:09.727440Z",
     "iopub.status.idle": "2021-02-21T18:11:09.736292Z",
     "shell.execute_reply": "2021-02-21T18:11:09.736845Z"
    },
    "id": "j8opVgLdDB-C",
    "outputId": "b5b2f50f-d0be-462b-c981-98c413ad50c0",
    "papermill": {
     "duration": 0.053952,
     "end_time": "2021-02-21T18:11:09.737033",
     "exception": false,
     "start_time": "2021-02-21T18:11:09.683081",
     "status": "completed"
    },
    "tags": []
   },
   "outputs": [
    {
     "data": {
      "text/html": [
       "\n",
       "  <div id=\"df-2975fa78-ceec-463a-aec6-e97fbdf8a7a8\">\n",
       "    <div class=\"colab-df-container\">\n",
       "      <div>\n",
       "<style scoped>\n",
       "    .dataframe tbody tr th:only-of-type {\n",
       "        vertical-align: middle;\n",
       "    }\n",
       "\n",
       "    .dataframe tbody tr th {\n",
       "        vertical-align: top;\n",
       "    }\n",
       "\n",
       "    .dataframe thead th {\n",
       "        text-align: right;\n",
       "    }\n",
       "</style>\n",
       "<table border=\"1\" class=\"dataframe\">\n",
       "  <thead>\n",
       "    <tr style=\"text-align: right;\">\n",
       "      <th></th>\n",
       "      <th>Passengers</th>\n",
       "    </tr>\n",
       "    <tr>\n",
       "      <th>Month</th>\n",
       "      <th></th>\n",
       "    </tr>\n",
       "  </thead>\n",
       "  <tbody>\n",
       "    <tr>\n",
       "      <th>1949-01-01</th>\n",
       "      <td>112</td>\n",
       "    </tr>\n",
       "    <tr>\n",
       "      <th>1949-02-01</th>\n",
       "      <td>118</td>\n",
       "    </tr>\n",
       "    <tr>\n",
       "      <th>1949-03-01</th>\n",
       "      <td>132</td>\n",
       "    </tr>\n",
       "    <tr>\n",
       "      <th>1949-04-01</th>\n",
       "      <td>129</td>\n",
       "    </tr>\n",
       "    <tr>\n",
       "      <th>1949-05-01</th>\n",
       "      <td>121</td>\n",
       "    </tr>\n",
       "  </tbody>\n",
       "</table>\n",
       "</div>\n",
       "      <button class=\"colab-df-convert\" onclick=\"convertToInteractive('df-2975fa78-ceec-463a-aec6-e97fbdf8a7a8')\"\n",
       "              title=\"Convert this dataframe to an interactive table.\"\n",
       "              style=\"display:none;\">\n",
       "        \n",
       "  <svg xmlns=\"http://www.w3.org/2000/svg\" height=\"24px\"viewBox=\"0 0 24 24\"\n",
       "       width=\"24px\">\n",
       "    <path d=\"M0 0h24v24H0V0z\" fill=\"none\"/>\n",
       "    <path d=\"M18.56 5.44l.94 2.06.94-2.06 2.06-.94-2.06-.94-.94-2.06-.94 2.06-2.06.94zm-11 1L8.5 8.5l.94-2.06 2.06-.94-2.06-.94L8.5 2.5l-.94 2.06-2.06.94zm10 10l.94 2.06.94-2.06 2.06-.94-2.06-.94-.94-2.06-.94 2.06-2.06.94z\"/><path d=\"M17.41 7.96l-1.37-1.37c-.4-.4-.92-.59-1.43-.59-.52 0-1.04.2-1.43.59L10.3 9.45l-7.72 7.72c-.78.78-.78 2.05 0 2.83L4 21.41c.39.39.9.59 1.41.59.51 0 1.02-.2 1.41-.59l7.78-7.78 2.81-2.81c.8-.78.8-2.07 0-2.86zM5.41 20L4 18.59l7.72-7.72 1.47 1.35L5.41 20z\"/>\n",
       "  </svg>\n",
       "      </button>\n",
       "      \n",
       "  <style>\n",
       "    .colab-df-container {\n",
       "      display:flex;\n",
       "      flex-wrap:wrap;\n",
       "      gap: 12px;\n",
       "    }\n",
       "\n",
       "    .colab-df-convert {\n",
       "      background-color: #E8F0FE;\n",
       "      border: none;\n",
       "      border-radius: 50%;\n",
       "      cursor: pointer;\n",
       "      display: none;\n",
       "      fill: #1967D2;\n",
       "      height: 32px;\n",
       "      padding: 0 0 0 0;\n",
       "      width: 32px;\n",
       "    }\n",
       "\n",
       "    .colab-df-convert:hover {\n",
       "      background-color: #E2EBFA;\n",
       "      box-shadow: 0px 1px 2px rgba(60, 64, 67, 0.3), 0px 1px 3px 1px rgba(60, 64, 67, 0.15);\n",
       "      fill: #174EA6;\n",
       "    }\n",
       "\n",
       "    [theme=dark] .colab-df-convert {\n",
       "      background-color: #3B4455;\n",
       "      fill: #D2E3FC;\n",
       "    }\n",
       "\n",
       "    [theme=dark] .colab-df-convert:hover {\n",
       "      background-color: #434B5C;\n",
       "      box-shadow: 0px 1px 3px 1px rgba(0, 0, 0, 0.15);\n",
       "      filter: drop-shadow(0px 1px 2px rgba(0, 0, 0, 0.3));\n",
       "      fill: #FFFFFF;\n",
       "    }\n",
       "  </style>\n",
       "\n",
       "      <script>\n",
       "        const buttonEl =\n",
       "          document.querySelector('#df-2975fa78-ceec-463a-aec6-e97fbdf8a7a8 button.colab-df-convert');\n",
       "        buttonEl.style.display =\n",
       "          google.colab.kernel.accessAllowed ? 'block' : 'none';\n",
       "\n",
       "        async function convertToInteractive(key) {\n",
       "          const element = document.querySelector('#df-2975fa78-ceec-463a-aec6-e97fbdf8a7a8');\n",
       "          const dataTable =\n",
       "            await google.colab.kernel.invokeFunction('convertToInteractive',\n",
       "                                                     [key], {});\n",
       "          if (!dataTable) return;\n",
       "\n",
       "          const docLinkHtml = 'Like what you see? Visit the ' +\n",
       "            '<a target=\"_blank\" href=https://colab.research.google.com/notebooks/data_table.ipynb>data table notebook</a>'\n",
       "            + ' to learn more about interactive tables.';\n",
       "          element.innerHTML = '';\n",
       "          dataTable['output_type'] = 'display_data';\n",
       "          await google.colab.output.renderOutput(dataTable, element);\n",
       "          const docLink = document.createElement('div');\n",
       "          docLink.innerHTML = docLinkHtml;\n",
       "          element.appendChild(docLink);\n",
       "        }\n",
       "      </script>\n",
       "    </div>\n",
       "  </div>\n",
       "  "
      ],
      "text/plain": [
       "            Passengers\n",
       "Month                 \n",
       "1949-01-01         112\n",
       "1949-02-01         118\n",
       "1949-03-01         132\n",
       "1949-04-01         129\n",
       "1949-05-01         121"
      ]
     },
     "execution_count": 13,
     "metadata": {},
     "output_type": "execute_result"
    }
   ],
   "source": [
    "airpassind.head()"
   ]
  },
  {
   "cell_type": "markdown",
   "metadata": {
    "id": "kTn-08AGDB-D",
    "papermill": {
     "duration": 0.041313,
     "end_time": "2021-02-21T18:11:09.819301",
     "exception": false,
     "start_time": "2021-02-21T18:11:09.777988",
     "status": "completed"
    },
    "tags": []
   },
   "source": [
    "**Let's plot the data**"
   ]
  },
  {
   "cell_type": "code",
   "execution_count": 14,
   "metadata": {
    "colab": {
     "base_uri": "https://localhost:8080/",
     "height": 296
    },
    "execution": {
     "iopub.execute_input": "2021-02-21T18:11:09.905018Z",
     "iopub.status.busy": "2021-02-21T18:11:09.904331Z",
     "iopub.status.idle": "2021-02-21T18:11:10.091002Z",
     "shell.execute_reply": "2021-02-21T18:11:10.091466Z"
    },
    "id": "EiyMK1nuDB-E",
    "outputId": "6d9a059b-4c31-4bfb-dfca-c031d7356599",
    "papermill": {
     "duration": 0.230782,
     "end_time": "2021-02-21T18:11:10.091668",
     "exception": false,
     "start_time": "2021-02-21T18:11:09.860886",
     "status": "completed"
    },
    "tags": []
   },
   "outputs": [
    {
     "data": {
      "text/plain": [
       "[<matplotlib.lines.Line2D at 0x7f3c297b4fd0>]"
      ]
     },
     "execution_count": 14,
     "metadata": {},
     "output_type": "execute_result"
    },
    {
     "data": {
      "image/png": "[encoded data removed]",
      "text/plain": [
       "<Figure size 432x288 with 1 Axes>"
      ]
     },
     "metadata": {
      "needs_background": "light"
     },
     "output_type": "display_data"
    }
   ],
   "source": [
    "plt.xlabel('Date')\n",
    "plt.ylabel('Number Of Air Passengers')\n",
    "plt.plot(airpassind)"
   ]
  },
  {
   "cell_type": "markdown",
   "metadata": {
    "id": "Mh01YJWBDB-F",
    "papermill": {
     "duration": 0.041752,
     "end_time": "2021-02-21T18:11:10.176423",
     "exception": false,
     "start_time": "2021-02-21T18:11:10.134671",
     "status": "completed"
    },
    "tags": []
   },
   "source": [
    "**From the above below, we can see that there is a Trend compoenent in the series. Hence, we now check for stationarity of the data.**"
   ]
  },
  {
   "cell_type": "markdown",
   "metadata": {
    "id": "3wnQriI9DB-G",
    "papermill": {
     "duration": 0.042519,
     "end_time": "2021-02-21T18:11:10.261128",
     "exception": false,
     "start_time": "2021-02-21T18:11:10.218609",
     "status": "completed"
    },
    "tags": []
   },
   "source": [
    "**Let's make one function consisting of stationary data checking and ADCF test working. Because we will need to repeat the steps many times, therefore, making function will become very handy**"
   ]
  },
  {
   "cell_type": "code",
   "execution_count": 15,
   "metadata": {
    "execution": {
     "iopub.execute_input": "2021-02-21T18:11:10.349288Z",
     "iopub.status.busy": "2021-02-21T18:11:10.348682Z",
     "iopub.status.idle": "2021-02-21T18:11:10.356183Z",
     "shell.execute_reply": "2021-02-21T18:11:10.356692Z"
    },
    "id": "QfUeoVrKDB-G",
    "papermill": {
     "duration": 0.053234,
     "end_time": "2021-02-21T18:11:10.356865",
     "exception": false,
     "start_time": "2021-02-21T18:11:10.303631",
     "status": "completed"
    },
    "tags": []
   },
   "outputs": [],
   "source": [
    "def test_stationarity(timeseries):\n",
    "    \n",
    "    #Determine rolling statistics\n",
    "    movingAverage = timeseries.rolling(window=12).mean()\n",
    "    movingSTD = timeseries.rolling(window=12).std()\n",
    "    \n",
    "    #Plot rolling statistics\n",
    "    plt.plot(timeseries, color='blue', label='Original')\n",
    "    plt.plot(movingAverage, color='red', label='Rolling Mean')\n",
    "    plt.plot(movingSTD, color='black', label='Rolling Std')\n",
    "    plt.legend(loc='best')\n",
    "    plt.title('Rolling Mean & Standard Deviation')\n",
    "    plt.show(block=Fal\n",
    "    \n",
    "    #Perform Dickey–Fuller test:\n",
    "    print('Results of Dickey Fuller Test:')\n",
    "    airpass_test = adfuller(timeseries['Passengers'], autolag='AIC')\n",
    "    dfoutput = pd.Series(airpass_test[0:4], index=['Test Statistic','p-value','#Lags Used','Number of Observations Used'])\n",
    "    for key,value in airpass_test[4].items():\n",
    "        dfoutput['Critical Value (%s)'%key] = value\n",
    "    print(dfoutput)"
   ]
  },
  {
   "cell_type": "markdown",
   "metadata": {
    "id": "qnpIp65hDB-H",
    "papermill": {
     "duration": 0.043069,
     "end_time": "2021-02-21T18:11:10.445322",
     "exception": false,
     "start_time": "2021-02-21T18:11:10.402253",
     "status": "completed"
    },
    "tags": []
   },
   "source": [
    "**Let's determine & plot rolling statistics.**"
   ]
  },
  {
   "cell_type": "code",
   "execution_count": 16,
   "metadata": {
    "colab": {
     "base_uri": "https://localhost:8080/",
     "height": 437
    },
    "execution": {
     "iopub.execute_input": "2021-02-21T18:11:10.533566Z",
     "iopub.status.busy": "2021-02-21T18:11:10.532830Z",
     "iopub.status.idle": "2021-02-21T18:11:10.767062Z",
     "shell.execute_reply": "2021-02-21T18:11:10.766095Z"
    },
    "id": "g63X-VDfDB-I",
    "outputId": "8e8c509e-dbfc-4fe6-a86b-8c17864667c3",
    "papermill": {
     "duration": 0.27945,
     "end_time": "2021-02-21T18:11:10.767269",
     "exception": false,
     "start_time": "2021-02-21T18:11:10.487819",
     "status": "completed"
    },
    "tags": []
   },
   "outputs": [
    {
     "data": {
      "image/png": "[encoded data removed]",
      "text/plain": [
       "<Figure size 432x288 with 1 Axes>"
      ]
     },
     "metadata": {
      "needs_background": "light"
     },
     "output_type": "display_data"
    },
    {
     "name": "stdout",
     "output_type": "stream",
     "text": [
      "Results of Dickey Fuller Test:\n",
      "Test Statistic                   0.815369\n",
      "p-value                          0.991880\n",
      "#Lags Used                      13.000000\n",
      "Number of Observations Used    130.000000\n",
      "Critical Value (1%)             -3.481682\n",
      "Critical Value (5%)             -2.884042\n",
      "Critical Value (10%)            -2.578770\n",
      "dtype: float64\n"
     ]
    }
   ],
   "source": [
    "test_stationarity(airpassind)"
   ]
  },
  {
   "cell_type": "markdown",
   "metadata": {
    "id": "uBm6uvkZDB-J",
    "papermill": {
     "duration": 0.044174,
     "end_time": "2021-02-21T18:11:10.856973",
     "exception": false,
     "start_time": "2021-02-21T18:11:10.812799",
     "status": "completed"
    },
    "tags": []
   },
   "source": [
    "**From above plot, we can see that Rolling Mean itself has a trend component even though Rolling Standard Deviation is fairly constant with time.**\n",
    "\n",
    "**For time series to be stationary, we need to ensure that both Rolling Mean and Rolling Standard Deviation remain fairly constant WRT time.**\n",
    "\n",
    "**Both the curves needs to be parallel to X-Axis, in our case it is not so.**\n",
    "\n",
    "**We've also conducted the ADCF ie Augmented Dickey Fuller Test. Having the Null Hypothesis to be Time Series is Non Stationary.**"
   ]
  },
  {
   "cell_type": "markdown",
   "metadata": {
    "id": "oHjKaym8DB-K",
    "papermill": {
     "duration": 0.04538,
     "end_time": "2021-02-21T18:11:10.947206",
     "exception": false,
     "start_time": "2021-02-21T18:11:10.901826",
     "status": "completed"
    },
    "tags": []
   },
   "source": [
    "For a Time series to be stationary, the ADCF test should have:\n",
    "\n",
    "1. p-value should be low (according to the null hypothesis)\n",
    "2. The critical values at 1%,5%,10% confidence intervals should be as close as possible to the Test Statistics\n",
    "\n",
    "From the above ADCF test result, we can see that p-value(near to 1.0) is very large. Also critical values are no where close to the Test Statistics. Hence, we can safely say that our Time Series at the moment is **NOT STATIONARY**"
   ]
  },
  {
   "cell_type": "markdown",
   "metadata": {
    "id": "J0Zb1zwpDB-K",
    "papermill": {
     "duration": 0.045016,
     "end_time": "2021-02-21T18:11:11.038195",
     "exception": false,
     "start_time": "2021-02-21T18:11:10.993179",
     "status": "completed"
    },
    "tags": []
   },
   "source": [
    "### **Data Transformation To Achieve Stationarity**\n",
    "\n",
    "**Now, we will have to perform some data transformation to achieve Stationarity. We can perform any of the transformations like taking log scale, square, square root, cube, cube root, time shift, exponential decay, etc.**\n",
    "\n",
    "**Let's perform Log Transformation.**\n",
    "\n",
    "**Basically we need to remove the trend component.**"
   ]
  },
  {
   "cell_type": "code",
   "execution_count": 17,
   "metadata": {
    "execution": {
     "iopub.execute_input": "2021-02-21T18:11:11.131637Z",
     "iopub.status.busy": "2021-02-21T18:11:11.130675Z",
     "iopub.status.idle": "2021-02-21T18:11:11.135989Z",
     "shell.execute_reply": "2021-02-21T18:11:11.135491Z"
    },
    "id": "Fm4cib9lDB-L",
    "papermill": {
     "duration": 0.053255,
     "end_time": "2021-02-21T18:11:11.136134",
     "exception": false,
     "start_time": "2021-02-21T18:11:11.082879",
     "status": "completed"
    },
    "tags": []
   },
   "outputs": [],
   "source": [
    "airpass_log = np.log(airpassind)"
   ]
  },
  {
   "cell_type": "code",
   "execution_count": 18,
   "metadata": {
    "colab": {
     "base_uri": "https://localhost:8080/",
     "height": 284
    },
    "execution": {
     "iopub.execute_input": "2021-02-21T18:11:11.228976Z",
     "iopub.status.busy": "2021-02-21T18:11:11.228011Z",
     "iopub.status.idle": "2021-02-21T18:11:11.388848Z",
     "shell.execute_reply": "2021-02-21T18:11:11.389301Z"
    },
    "id": "A5vlMYk5DB-M",
    "outputId": "caa99e30-0fc2-48da-909f-9c5143dcd003",
    "papermill": {
     "duration": 0.208707,
     "end_time": "2021-02-21T18:11:11.389491",
     "exception": false,
     "start_time": "2021-02-21T18:11:11.180784",
     "status": "completed"
    },
    "tags": []
   },
   "outputs": [
    {
     "data": {
      "text/plain": [
       "[<matplotlib.lines.Line2D at 0x7f3c26e5e550>]"
      ]
     },
     "execution_count": 18,
     "metadata": {},
     "output_type": "execute_result"
    },
    {
     "data": {
      "image/png": "[encoded data removed]",
      "text/plain": [
       "<Figure size 432x288 with 1 Axes>"
      ]
     },
     "metadata": {
      "needs_background": "light"
     },
     "output_type": "display_data"
    }
   ],
   "source": [
    "plt.plot(airpass_log)"
   ]
  },
  {
   "cell_type": "markdown",
   "metadata": {
    "id": "18ZVEQLLDB-N",
    "papermill": {
     "duration": 0.045683,
     "end_time": "2021-02-21T18:11:11.480896",
     "exception": false,
     "start_time": "2021-02-21T18:11:11.435213",
     "status": "completed"
    },
    "tags": []
   },
   "source": [
    "**Working on Rolling stats seperately (not using function) because we would need Rolling stats separately for computing**"
   ]
  },
  {
   "cell_type": "code",
   "execution_count": 19,
   "metadata": {
    "execution": {
     "iopub.execute_input": "2021-02-21T18:11:11.577684Z",
     "iopub.status.busy": "2021-02-21T18:11:11.576714Z",
     "iopub.status.idle": "2021-02-21T18:11:11.582721Z",
     "shell.execute_reply": "2021-02-21T18:11:11.583183Z"
    },
    "id": "TfpWwZJUDB-N",
    "papermill": {
     "duration": 0.055671,
     "end_time": "2021-02-21T18:11:11.583360",
     "exception": false,
     "start_time": "2021-02-21T18:11:11.527689",
     "status": "completed"
    },
    "tags": []
   },
   "outputs": [],
   "source": [
    "rollmean_log = airpass_log.rolling(window=12).mean()\n",
    "rollstd_log = airpass_log.rolling(window=12).std()"
   ]
  },
  {
   "cell_type": "code",
   "execution_count": 20,
   "metadata": {
    "colab": {
     "base_uri": "https://localhost:8080/",
     "height": 298
    },
    "execution": {
     "iopub.execute_input": "2021-02-21T18:11:11.691749Z",
     "iopub.status.busy": "2021-02-21T18:11:11.690767Z",
     "iopub.status.idle": "2021-02-21T18:11:11.922978Z",
     "shell.execute_reply": "2021-02-21T18:11:11.922407Z"
    },
    "id": "Exob5_NDDB-O",
    "outputId": "1b794580-c0a1-47cc-8044-93f5c0e1eb1a",
    "papermill": {
     "duration": 0.290391,
     "end_time": "2021-02-21T18:11:11.923173",
     "exception": false,
     "start_time": "2021-02-21T18:11:11.632782",
     "status": "completed"
    },
    "tags": []
   },
   "outputs": [
    {
     "data": {
      "text/plain": [
       "Text(0.5, 1.0, 'Rolling Mean & Standard Deviation (Logarithmic Scale)')"
      ]
     },
     "execution_count": 20,
     "metadata": {},
     "output_type": "execute_result"
    },
    {
     "data": {
      "image/png": "[encoded data removed]",
      "text/plain": [
       "<Figure size 432x288 with 1 Axes>"
      ]
     },
     "metadata": {
      "needs_background": "light"
     },
     "output_type": "display_data"
    }
   ],
   "source": [
    "plt.plot(airpass_log, color='blue', label='Original')\n",
    "plt.plot(rollmean_log, color='red', label='Rolling Mean')\n",
    "plt.plot(rollstd_log, color='black', label='Rolling Std')\n",
    "plt.legend(loc='best')\n",
    "plt.title('Rolling Mean & Standard Deviation (Logarithmic Scale)')"
   ]
  },
  {
   "cell_type": "markdown",
   "metadata": {
    "id": "9KeYl2HyDB-P",
    "papermill": {
     "duration": 0.05038,
     "end_time": "2021-02-21T18:11:12.022777",
     "exception": false,
     "start_time": "2021-02-21T18:11:11.972397",
     "status": "completed"
    },
    "tags": []
   },
   "source": [
    "From above graph we can say that, we slightly bettered our previous results. Now, we are heading into the right direction.\n",
    "\n",
    "From the above graph, Time series with log scale as well as Rolling Mean(moving avg) both have the trend component. Thus subtracting one from the other should remove the trend component.\n",
    "\n",
    "**R (result) = Time Series Loca Scale - Rolling Mean Log Scale -> this can be our final non trend curve**"
   ]
  },
  {
   "cell_type": "code",
   "execution_count": 21,
   "metadata": {
    "execution": {
     "iopub.execute_input": "2021-02-21T18:11:12.124052Z",
     "iopub.status.busy": "2021-02-21T18:11:12.123303Z",
     "iopub.status.idle": "2021-02-21T18:11:12.142662Z",
     "shell.execute_reply": "2021-02-21T18:11:12.141768Z"
    },
    "id": "hGmTmhKYDB-R",
    "papermill": {
     "duration": 0.072076,
     "end_time": "2021-02-21T18:11:12.142821",
     "exception": false,
     "start_time": "2021-02-21T18:11:12.070745",
     "status": "completed"
    },
    "tags": []
   },
   "outputs": [],
   "source": [
    "airpass_new = airpass_log - rollmean_log"
   ]
  },
  {
   "cell_type": "code",
   "execution_count": 22,
   "metadata": {
    "colab": {
     "base_uri": "https://localhost:8080/",
     "height": 237
    },
    "execution": {
     "iopub.execute_input": "2021-02-21T18:11:12.246527Z",
     "iopub.status.busy": "2021-02-21T18:11:12.245836Z",
     "iopub.status.idle": "2021-02-21T18:11:12.249824Z",
     "shell.execute_reply": "2021-02-21T18:11:12.249273Z"
    },
    "id": "x3IHGhG0DB-S",
    "outputId": "43b0a271-1805-4bcd-dbb1-23c21d445bb9",
    "papermill": {
     "duration": 0.059853,
     "end_time": "2021-02-21T18:11:12.249969",
     "exception": false,
     "start_time": "2021-02-21T18:11:12.190116",
     "status": "completed"
    },
    "tags": []
   },
   "outputs": [
    {
     "data": {
      "text/html": [
       "\n",
       "  <div id=\"df-b95eef02-f040-4ab3-af1c-7fc2b1f58f47\">\n",
       "    <div class=\"colab-df-container\">\n",
       "      <div>\n",
       "<style scoped>\n",
       "    .dataframe tbody tr th:only-of-type {\n",
       "        vertical-align: middle;\n",
       "    }\n",
       "\n",
       "    .dataframe tbody tr th {\n",
       "        vertical-align: top;\n",
       "    }\n",
       "\n",
       "    .dataframe thead th {\n",
       "        text-align: right;\n",
       "    }\n",
       "</style>\n",
       "<table border=\"1\" class=\"dataframe\">\n",
       "  <thead>\n",
       "    <tr style=\"text-align: right;\">\n",
       "      <th></th>\n",
       "      <th>Passengers</th>\n",
       "    </tr>\n",
       "    <tr>\n",
       "      <th>Month</th>\n",
       "      <th></th>\n",
       "    </tr>\n",
       "  </thead>\n",
       "  <tbody>\n",
       "    <tr>\n",
       "      <th>1949-01-01</th>\n",
       "      <td>NaN</td>\n",
       "    </tr>\n",
       "    <tr>\n",
       "      <th>1949-02-01</th>\n",
       "      <td>NaN</td>\n",
       "    </tr>\n",
       "    <tr>\n",
       "      <th>1949-03-01</th>\n",
       "      <td>NaN</td>\n",
       "    </tr>\n",
       "    <tr>\n",
       "      <th>1949-04-01</th>\n",
       "      <td>NaN</td>\n",
       "    </tr>\n",
       "    <tr>\n",
       "      <th>1949-05-01</th>\n",
       "      <td>NaN</td>\n",
       "    </tr>\n",
       "  </tbody>\n",
       "</table>\n",
       "</div>\n",
       "      <button class=\"colab-df-convert\" onclick=\"convertToInteractive('df-b95eef02-f040-4ab3-af1c-7fc2b1f58f47')\"\n",
       "              title=\"Convert this dataframe to an interactive table.\"\n",
       "              style=\"display:none;\">\n",
       "        \n",
       "  <svg xmlns=\"http://www.w3.org/2000/svg\" height=\"24px\"viewBox=\"0 0 24 24\"\n",
       "       width=\"24px\">\n",
       "    <path d=\"M0 0h24v24H0V0z\" fill=\"none\"/>\n",
       "    <path d=\"M18.56 5.44l.94 2.06.94-2.06 2.06-.94-2.06-.94-.94-2.06-.94 2.06-2.06.94zm-11 1L8.5 8.5l.94-2.06 2.06-.94-2.06-.94L8.5 2.5l-.94 2.06-2.06.94zm10 10l.94 2.06.94-2.06 2.06-.94-2.06-.94-.94-2.06-.94 2.06-2.06.94z\"/><path d=\"M17.41 7.96l-1.37-1.37c-.4-.4-.92-.59-1.43-.59-.52 0-1.04.2-1.43.59L10.3 9.45l-7.72 7.72c-.78.78-.78 2.05 0 2.83L4 21.41c.39.39.9.59 1.41.59.51 0 1.02-.2 1.41-.59l7.78-7.78 2.81-2.81c.8-.78.8-2.07 0-2.86zM5.41 20L4 18.59l7.72-7.72 1.47 1.35L5.41 20z\"/>\n",
       "  </svg>\n",
       "      </button>\n",
       "      \n",
       "  <style>\n",
       "    .colab-df-container {\n",
       "      display:flex;\n",
       "      flex-wrap:wrap;\n",
       "      gap: 12px;\n",
       "    }\n",
       "\n",
       "    .colab-df-convert {\n",
       "      background-color: #E8F0FE;\n",
       "      border: none;\n",
       "      border-radius: 50%;\n",
       "      cursor: pointer;\n",
       "      display: none;\n",
       "      fill: #1967D2;\n",
       "      height: 32px;\n",
       "      padding: 0 0 0 0;\n",
       "      width: 32px;\n",
       "    }\n",
       "\n",
       "    .colab-df-convert:hover {\n",
       "      background-color: #E2EBFA;\n",
       "      box-shadow: 0px 1px 2px rgba(60, 64, 67, 0.3), 0px 1px 3px 1px rgba(60, 64, 67, 0.15);\n",
       "      fill: #174EA6;\n",
       "    }\n",
       "\n",
       "    [theme=dark] .colab-df-convert {\n",
       "      background-color: #3B4455;\n",
       "      fill: #D2E3FC;\n",
       "    }\n",
       "\n",
       "    [theme=dark] .colab-df-convert:hover {\n",
       "      background-color: #434B5C;\n",
       "      box-shadow: 0px 1px 3px 1px rgba(0, 0, 0, 0.15);\n",
       "      filter: drop-shadow(0px 1px 2px rgba(0, 0, 0, 0.3));\n",
       "      fill: #FFFFFF;\n",
       "    }\n",
       "  </style>\n",
       "\n",
       "      <script>\n",
       "        const buttonEl =\n",
       "          document.querySelector('#df-b95eef02-f040-4ab3-af1c-7fc2b1f58f47 button.colab-df-convert');\n",
       "        buttonEl.style.display =\n",
       "          google.colab.kernel.accessAllowed ? 'block' : 'none';\n",
       "\n",
       "        async function convertToInteractive(key) {\n",
       "          const element = document.querySelector('#df-b95eef02-f040-4ab3-af1c-7fc2b1f58f47');\n",
       "          const dataTable =\n",
       "            await google.colab.kernel.invokeFunction('convertToInteractive',\n",
       "                                                     [key], {});\n",
       "          if (!dataTable) return;\n",
       "\n",
       "          const docLinkHtml = 'Like what you see? Visit the ' +\n",
       "            '<a target=\"_blank\" href=https://colab.research.google.com/notebooks/data_table.ipynb>data table notebook</a>'\n",
       "            + ' to learn more about interactive tables.';\n",
       "          element.innerHTML = '';\n",
       "          dataTable['output_type'] = 'display_data';\n",
       "          await google.colab.output.renderOutput(dataTable, element);\n",
       "          const docLink = document.createElement('div');\n",
       "          docLink.innerHTML = docLinkHtml;\n",
       "          element.appendChild(docLink);\n",
       "        }\n",
       "      </script>\n",
       "    </div>\n",
       "  </div>\n",
       "  "
      ],
      "text/plain": [
       "            Passengers\n",
       "Month                 \n",
       "1949-01-01         NaN\n",
       "1949-02-01         NaN\n",
       "1949-03-01         NaN\n",
       "1949-04-01         NaN\n",
       "1949-05-01         NaN"
      ]
     },
     "execution_count": 22,
     "metadata": {},
     "output_type": "execute_result"
    }
   ],
   "source": [
    "airpass_new.head()"
   ]
  },
  {
   "cell_type": "code",
   "execution_count": 23,
   "metadata": {
    "execution": {
     "iopub.execute_input": "2021-02-21T18:11:12.352966Z",
     "iopub.status.busy": "2021-02-21T18:11:12.352298Z",
     "iopub.status.idle": "2021-02-21T18:11:12.355218Z",
     "shell.execute_reply": "2021-02-21T18:11:12.355729Z"
    },
    "id": "vvk2oVSrDB-T",
    "papermill": {
     "duration": 0.057976,
     "end_time": "2021-02-21T18:11:12.355902",
     "exception": false,
     "start_time": "2021-02-21T18:11:12.297926",
     "status": "completed"
    },
    "tags": []
   },
   "outputs": [],
   "source": [
    "airpass_new.dropna(inplace=True)"
   ]
  },
  {
   "cell_type": "code",
   "execution_count": 24,
   "metadata": {
    "colab": {
     "base_uri": "https://localhost:8080/",
     "height": 237
    },
    "execution": {
     "iopub.execute_input": "2021-02-21T18:11:12.463411Z",
     "iopub.status.busy": "2021-02-21T18:11:12.462364Z",
     "iopub.status.idle": "2021-02-21T18:11:12.466779Z",
     "shell.execute_reply": "2021-02-21T18:11:12.466120Z"
    },
    "id": "1UinPuBjDB-U",
    "outputId": "b85f7b9d-c290-4f61-cd10-48b852351544",
    "papermill": {
     "duration": 0.061972,
     "end_time": "2021-02-21T18:11:12.466926",
     "exception": false,
     "start_time": "2021-02-21T18:11:12.404954",
     "status": "completed"
    },
    "tags": []
   },
   "outputs": [
    {
     "data": {
      "text/html": [
       "\n",
       "  <div id=\"df-6f48ed6f-a971-4ca7-9b28-95cd2f8553fe\">\n",
       "    <div class=\"colab-df-container\">\n",
       "      <div>\n",
       "<style scoped>\n",
       "    .dataframe tbody tr th:only-of-type {\n",
       "        vertical-align: middle;\n",
       "    }\n",
       "\n",
       "    .dataframe tbody tr th {\n",
       "        vertical-align: top;\n",
       "    }\n",
       "\n",
       "    .dataframe thead th {\n",
       "        text-align: right;\n",
       "    }\n",
       "</style>\n",
       "<table border=\"1\" class=\"dataframe\">\n",
       "  <thead>\n",
       "    <tr style=\"text-align: right;\">\n",
       "      <th></th>\n",
       "      <th>Passengers</th>\n",
       "    </tr>\n",
       "    <tr>\n",
       "      <th>Month</th>\n",
       "      <th></th>\n",
       "    </tr>\n",
       "  </thead>\n",
       "  <tbody>\n",
       "    <tr>\n",
       "      <th>1949-12-01</th>\n",
       "      <td>-0.065494</td>\n",
       "    </tr>\n",
       "    <tr>\n",
       "      <th>1950-01-01</th>\n",
       "      <td>-0.093449</td>\n",
       "    </tr>\n",
       "    <tr>\n",
       "      <th>1950-02-01</th>\n",
       "      <td>-0.007566</td>\n",
       "    </tr>\n",
       "    <tr>\n",
       "      <th>1950-03-01</th>\n",
       "      <td>0.099416</td>\n",
       "    </tr>\n",
       "    <tr>\n",
       "      <th>1950-04-01</th>\n",
       "      <td>0.052142</td>\n",
       "    </tr>\n",
       "  </tbody>\n",
       "</table>\n",
       "</div>\n",
       "      <button class=\"colab-df-convert\" onclick=\"convertToInteractive('df-6f48ed6f-a971-4ca7-9b28-95cd2f8553fe')\"\n",
       "              title=\"Convert this dataframe to an interactive table.\"\n",
       "              style=\"display:none;\">\n",
       "        \n",
       "  <svg xmlns=\"http://www.w3.org/2000/svg\" height=\"24px\"viewBox=\"0 0 24 24\"\n",
       "       width=\"24px\">\n",
       "    <path d=\"M0 0h24v24H0V0z\" fill=\"none\"/>\n",
       "    <path d=\"M18.56 5.44l.94 2.06.94-2.06 2.06-.94-2.06-.94-.94-2.06-.94 2.06-2.06.94zm-11 1L8.5 8.5l.94-2.06 2.06-.94-2.06-.94L8.5 2.5l-.94 2.06-2.06.94zm10 10l.94 2.06.94-2.06 2.06-.94-2.06-.94-.94-2.06-.94 2.06-2.06.94z\"/><path d=\"M17.41 7.96l-1.37-1.37c-.4-.4-.92-.59-1.43-.59-.52 0-1.04.2-1.43.59L10.3 9.45l-7.72 7.72c-.78.78-.78 2.05 0 2.83L4 21.41c.39.39.9.59 1.41.59.51 0 1.02-.2 1.41-.59l7.78-7.78 2.81-2.81c.8-.78.8-2.07 0-2.86zM5.41 20L4 18.59l7.72-7.72 1.47 1.35L5.41 20z\"/>\n",
       "  </svg>\n",
       "      </button>\n",
       "      \n",
       "  <style>\n",
       "    .colab-df-container {\n",
       "      display:flex;\n",
       "      flex-wrap:wrap;\n",
       "      gap: 12px;\n",
       "    }\n",
       "\n",
       "    .colab-df-convert {\n",
       "      background-color: #E8F0FE;\n",
       "      border: none;\n",
       "      border-radius: 50%;\n",
       "      cursor: pointer;\n",
       "      display: none;\n",
       "      fill: #1967D2;\n",
       "      height: 32px;\n",
       "      padding: 0 0 0 0;\n",
       "      width: 32px;\n",
       "    }\n",
       "\n",
       "    .colab-df-convert:hover {\n",
       "      background-color: #E2EBFA;\n",
       "      box-shadow: 0px 1px 2px rgba(60, 64, 67, 0.3), 0px 1px 3px 1px rgba(60, 64, 67, 0.15);\n",
       "      fill: #174EA6;\n",
       "    }\n",
       "\n",
       "    [theme=dark] .colab-df-convert {\n",
       "      background-color: #3B4455;\n",
       "      fill: #D2E3FC;\n",
       "    }\n",
       "\n",
       "    [theme=dark] .colab-df-convert:hover {\n",
       "      background-color: #434B5C;\n",
       "      box-shadow: 0px 1px 3px 1px rgba(0, 0, 0, 0.15);\n",
       "      filter: drop-shadow(0px 1px 2px rgba(0, 0, 0, 0.3));\n",
       "      fill: #FFFFFF;\n",
       "    }\n",
       "  </style>\n",
       "\n",
       "      <script>\n",
       "        const buttonEl =\n",
       "          document.querySelector('#df-6f48ed6f-a971-4ca7-9b28-95cd2f8553fe button.colab-df-convert');\n",
       "        buttonEl.style.display =\n",
       "          google.colab.kernel.accessAllowed ? 'block' : 'none';\n",
       "\n",
       "        async function convertToInteractive(key) {\n",
       "          const element = document.querySelector('#df-6f48ed6f-a971-4ca7-9b28-95cd2f8553fe');\n",
       "          const dataTable =\n",
       "            await google.colab.kernel.invokeFunction('convertToInteractive',\n",
       "                                                     [key], {});\n",
       "          if (!dataTable) return;\n",
       "\n",
       "          const docLinkHtml = 'Like what you see? Visit the ' +\n",
       "            '<a target=\"_blank\" href=https://colab.research.google.com/notebooks/data_table.ipynb>data table notebook</a>'\n",
       "            + ' to learn more about interactive tables.';\n",
       "          element.innerHTML = '';\n",
       "          dataTable['output_type'] = 'display_data';\n",
       "          await google.colab.output.renderOutput(dataTable, element);\n",
       "          const docLink = document.createElement('div');\n",
       "          docLink.innerHTML = docLinkHtml;\n",
       "          element.appendChild(docLink);\n",
       "        }\n",
       "      </script>\n",
       "    </div>\n",
       "  </div>\n",
       "  "
      ],
      "text/plain": [
       "            Passengers\n",
       "Month                 \n",
       "1949-12-01   -0.065494\n",
       "1950-01-01   -0.093449\n",
       "1950-02-01   -0.007566\n",
       "1950-03-01    0.099416\n",
       "1950-04-01    0.052142"
      ]
     },
     "execution_count": 24,
     "metadata": {},
     "output_type": "execute_result"
    }
   ],
   "source": [
    "airpass_new.head()"
   ]
  },
  {
   "cell_type": "code",
   "execution_count": 25,
   "metadata": {
    "colab": {
     "base_uri": "https://localhost:8080/",
     "height": 437
    },
    "execution": {
     "iopub.execute_input": "2021-02-21T18:11:12.618304Z",
     "iopub.status.busy": "2021-02-21T18:11:12.587846Z",
     "iopub.status.idle": "2021-02-21T18:11:12.807913Z",
     "shell.execute_reply": "2021-02-21T18:11:12.806974Z"
    },
    "id": "l4VNH_MrDB-U",
    "outputId": "e10eb359-f4fc-4f3b-ab92-5978a510441b",
    "papermill": {
     "duration": 0.292411,
     "end_time": "2021-02-21T18:11:12.808142",
     "exception": false,
     "start_time": "2021-02-21T18:11:12.515731",
     "status": "completed"
    },
    "tags": []
   },
   "outputs": [
    {
     "data": {
      "image/png": "[encoded data removed]",
      "text/plain": [
       "<Figure size 432x288 with 1 Axes>"
      ]
     },
     "metadata": {
      "needs_background": "light"
     },
     "output_type": "display_data"
    },
    {
     "name": "stdout",
     "output_type": "stream",
     "text": [
      "Results of Dickey Fuller Test:\n",
      "Test Statistic                  -3.162908\n",
      "p-value                          0.022235\n",
      "#Lags Used                      13.000000\n",
      "Number of Observations Used    119.000000\n",
      "Critical Value (1%)             -3.486535\n",
      "Critical Value (5%)             -2.886151\n",
      "Critical Value (10%)            -2.579896\n",
      "dtype: float64\n"
     ]
    }
   ],
   "source": [
    "test_stationarity(airpass_new)"
   ]
  },
  {
   "cell_type": "markdown",
   "metadata": {
    "id": "28cu5Vi6DB-V",
    "papermill": {
     "duration": 0.054428,
     "end_time": "2021-02-21T18:11:12.924396",
     "exception": false,
     "start_time": "2021-02-21T18:11:12.869968",
     "status": "completed"
    },
    "tags": []
   },
   "source": [
    "**From the above plot, we came to know that \"indeed subtracting two related series having similar trend components actually removed trend and made the dataset stationary\"**"
   ]
  },
  {
   "cell_type": "markdown",
   "metadata": {
    "id": "89mwGy-TDB-W",
    "papermill": {
     "duration": 0.052429,
     "end_time": "2021-02-21T18:11:13.032215",
     "exception": false,
     "start_time": "2021-02-21T18:11:12.979786",
     "status": "completed"
    },
    "tags": []
   },
   "source": [
    "Also, after concluding the results from ADFC test:\n",
    "\n",
    "1. p-value has reduced from 0.99 to 0.022\n",
    "2. Critical values at 1%,5%,10% confidence intervals are pretty close to the Test Statistic\n",
    "\n",
    "So we can now say that given series is now **STATIONARY**"
   ]
  },
  {
   "cell_type": "markdown",
   "metadata": {
    "id": "2g16zCavDB-W",
    "papermill": {
     "duration": 0.052992,
     "end_time": "2021-02-21T18:11:13.137705",
     "exception": false,
     "start_time": "2021-02-21T18:11:13.084713",
     "status": "completed"
    },
    "tags": []
   },
   "source": [
    "### **Time Shift Transformation**"
   ]
  },
  {
   "cell_type": "code",
   "execution_count": 26,
   "metadata": {
    "colab": {
     "base_uri": "https://localhost:8080/",
     "height": 282
    },
    "execution": {
     "iopub.execute_input": "2021-02-21T18:11:13.256220Z",
     "iopub.status.busy": "2021-02-21T18:11:13.255186Z",
     "iopub.status.idle": "2021-02-21T18:11:13.401112Z",
     "shell.execute_reply": "2021-02-21T18:11:13.400360Z"
    },
    "id": "TYC6I9e7DB-X",
    "outputId": "084a7363-1966-438a-ae76-b700d8b9a468",
    "papermill": {
     "duration": 0.211435,
     "end_time": "2021-02-21T18:11:13.401273",
     "exception": false,
     "start_time": "2021-02-21T18:11:13.189838",
     "status": "completed"
    },
    "tags": []
   },
   "outputs": [
    {
     "data": {
      "text/plain": [
       "[<matplotlib.lines.Line2D at 0x7f3c26c78fa0>]"
      ]
     },
     "execution_count": 26,
     "metadata": {},
     "output_type": "execute_result"
    },
    {
     "data": {
      "image/png": "[encoded data removed]",
      "text/plain": [
       "<Figure size 432x288 with 1 Axes>"
      ]
     },
     "metadata": {
      "needs_background": "light"
     },
     "output_type": "display_data"
    }
   ],
   "source": [
    "airpass_log_diff = airpass_log - airpass_log.shift()\n",
    "plt.plot(airpass_log_diff)"
   ]
  },
  {
   "cell_type": "code",
   "execution_count": 27,
   "metadata": {
    "colab": {
     "base_uri": "https://localhost:8080/",
     "height": 282
    },
    "execution": {
     "iopub.execute_input": "2021-02-21T18:11:13.532337Z",
     "iopub.status.busy": "2021-02-21T18:11:13.530619Z",
     "iopub.status.idle": "2021-02-21T18:11:13.672372Z",
     "shell.execute_reply": "2021-02-21T18:11:13.671470Z"
    },
    "id": "y6KNJL1dDB-Y",
    "outputId": "84f15ca9-1fbd-427f-92f7-e49ff2b7797e",
    "papermill": {
     "duration": 0.217458,
     "end_time": "2021-02-21T18:11:13.672558",
     "exception": false,
     "start_time": "2021-02-21T18:11:13.455100",
     "status": "completed"
    },
    "tags": []
   },
   "outputs": [
    {
     "data": {
      "text/plain": [
       "[<matplotlib.lines.Line2D at 0x7f3c26c907f0>]"
      ]
     },
     "execution_count": 27,
     "metadata": {},
     "output_type": "execute_result"
    },
    {
     "data": {
      "image/png": "[encoded data removed]",
      "text/plain": [
       "<Figure size 432x288 with 1 Axes>"
      ]
     },
     "metadata": {
      "needs_background": "light"
     },
     "output_type": "display_data"
    }
   ],
   "source": [
    "airpass_log_diff.dropna(inplace=True)\n",
    "plt.plot(airpass_log_diff)"
   ]
  },
  {
   "cell_type": "code",
   "execution_count": 28,
   "metadata": {
    "colab": {
     "base_uri": "https://localhost:8080/",
     "height": 437
    },
    "execution": {
     "iopub.execute_input": "2021-02-21T18:11:13.788925Z",
     "iopub.status.busy": "2021-02-21T18:11:13.787824Z",
     "iopub.status.idle": "2021-02-21T18:11:14.019421Z",
     "shell.execute_reply": "2021-02-21T18:11:14.018436Z"
    },
    "id": "xYlMMOV2DB-Y",
    "outputId": "8c4d7d4f-5573-4409-97a5-e2146013c5ff",
    "papermill": {
     "duration": 0.291937,
     "end_time": "2021-02-21T18:11:14.019660",
     "exception": false,
     "start_time": "2021-02-21T18:11:13.727723",
     "status": "completed"
    },
    "tags": []
   },
   "outputs": [
    {
     "data": {
      "image/png": "[encoded data removed]",
      "text/plain": [
       "<Figure size 432x288 with 1 Axes>"
      ]
     },
     "metadata": {
      "needs_background": "light"
     },
     "output_type": "display_data"
    },
    {
     "name": "stdout",
     "output_type": "stream",
     "text": [
      "Results of Dickey Fuller Test:\n",
      "Test Statistic                  -2.717131\n",
      "p-value                          0.071121\n",
      "#Lags Used                      14.000000\n",
      "Number of Observations Used    128.000000\n",
      "Critical Value (1%)             -3.482501\n",
      "Critical Value (5%)             -2.884398\n",
      "Critical Value (10%)            -2.578960\n",
      "dtype: float64\n"
     ]
    }
   ],
   "source": [
    "test_stationarity(airpass_log_diff)"
   ]
  },
  {
   "cell_type": "markdown",
   "metadata": {
    "id": "3sPq-htsDB-Z",
    "papermill": {
     "duration": 0.056024,
     "end_time": "2021-02-21T18:11:14.132778",
     "exception": false,
     "start_time": "2021-02-21T18:11:14.076754",
     "status": "completed"
    },
    "tags": []
   },
   "source": [
    "From above plot, we can see that, visually this is the very best result as our series along with rolling stats values of moving avg(mean) & moving standard deviation is very much flat & stationary. \n",
    "\n",
    "But, the ADCF test shows us that:\n",
    "\n",
    "1. p-value of 0.07 is not as good as 0.02 of previous instance.\n",
    "2. Test Statistic value not as close to the critical values as that of previous instance."
   ]
  },
  {
   "cell_type": "markdown",
   "metadata": {
    "id": "oVWIXpq3DB-a",
    "papermill": {
     "duration": 0.056371,
     "end_time": "2021-02-21T18:11:14.245240",
     "exception": false,
     "start_time": "2021-02-21T18:11:14.188869",
     "status": "completed"
    },
    "tags": []
   },
   "source": [
    "**Let us now break down the 3 components of the log scale series using a system libary function. Once, we separate our the components, we can simply ignore trend & seasonality and check on the nature of the residual part.**"
   ]
  },
  {
   "cell_type": "code",
   "execution_count": 29,
   "metadata": {
    "colab": {
     "base_uri": "https://localhost:8080/",
     "height": 297
    },
    "execution": {
     "iopub.execute_input": "2021-02-21T18:11:14.372877Z",
     "iopub.status.busy": "2021-02-21T18:11:14.369837Z",
     "iopub.status.idle": "2021-02-21T18:11:14.954783Z",
     "shell.execute_reply": "2021-02-21T18:11:14.954244Z"
    },
    "id": "sd9ph_vUDB-a",
    "outputId": "5041976f-266a-4a7a-f2d9-1fec4ba5de83",
    "papermill": {
     "duration": 0.65366,
     "end_time": "2021-02-21T18:11:14.954938",
     "exception": false,
     "start_time": "2021-02-21T18:11:14.301278",
     "status": "completed"
    },
    "tags": []
   },
   "outputs": [
    {
     "data": {
      "image/png": "[encoded data removed]",
      "text/plain": [
       "<Figure size 432x288 with 4 Axes>"
      ]
     },
     "metadata": {
      "needs_background": "light"
     },
     "output_type": "display_data"
    }
   ],
   "source": [
    "decomposition = seasonal_decompose(airpass_log)\n",
    "\n",
    "trend = decomposition.trend\n",
    "seasonal = decomposition.seasonal\n",
    "residual = decomposition.resid\n",
    "\n",
    "plt.subplot(411)\n",
    "plt.plot(airpass_log, label='Original')\n",
    "plt.legend(loc='best')\n",
    "\n",
    "plt.subplot(412)\n",
    "plt.plot(trend, label='Trend')\n",
    "plt.legend(loc='best')\n",
    "\n",
    "plt.subplot(413)\n",
    "plt.plot(seasonal,label='Seasonality')\n",
    "plt.legend(loc='best')\n",
    "\n",
    "plt.subplot(414)\n",
    "plt.plot(residual, label='Residuals')\n",
    "plt.legend(loc='best')\n",
    "plt.tight_layout()"
   ]
  },
  {
   "cell_type": "markdown",
   "metadata": {
    "id": "XsVOBIouDB-b",
    "papermill": {
     "duration": 0.059258,
     "end_time": "2021-02-21T18:11:15.073333",
     "exception": false,
     "start_time": "2021-02-21T18:11:15.014075",
     "status": "completed"
    },
    "tags": []
   },
   "source": [
    "**There can be cases where an observation simply consist of trend & seasonality. In that case, there won't be any residual component & that would be a null or NaN. Hence, we also remove such cases.**"
   ]
  },
  {
   "cell_type": "code",
   "execution_count": 30,
   "metadata": {
    "execution": {
     "iopub.execute_input": "2021-02-21T18:11:15.196181Z",
     "iopub.status.busy": "2021-02-21T18:11:15.195523Z",
     "iopub.status.idle": "2021-02-21T18:11:15.198377Z",
     "shell.execute_reply": "2021-02-21T18:11:15.197827Z"
    },
    "id": "acBUQXexDB-c",
    "papermill": {
     "duration": 0.066475,
     "end_time": "2021-02-21T18:11:15.198537",
     "exception": false,
     "start_time": "2021-02-21T18:11:15.132062",
     "status": "completed"
    },
    "tags": []
   },
   "outputs": [],
   "source": [
    "airpass_decompose = residual\n",
    "airpass_decompose.dropna(inplace=True)"
   ]
  },
  {
   "cell_type": "code",
   "execution_count": 31,
   "metadata": {
    "colab": {
     "base_uri": "https://localhost:8080/",
     "height": 298
    },
    "execution": {
     "iopub.execute_input": "2021-02-21T18:11:15.317744Z",
     "iopub.status.busy": "2021-02-21T18:11:15.317106Z",
     "iopub.status.idle": "2021-02-21T18:11:15.544435Z",
     "shell.execute_reply": "2021-02-21T18:11:15.543920Z"
    },
    "id": "Y_qAbKNjDB-c",
    "outputId": "44b5984e-a3f4-47d6-e6d7-804f014aae77",
    "papermill": {
     "duration": 0.287912,
     "end_time": "2021-02-21T18:11:15.544601",
     "exception": false,
     "start_time": "2021-02-21T18:11:15.256689",
     "status": "completed"
    },
    "tags": []
   },
   "outputs": [
    {
     "data": {
      "text/plain": [
       "Text(0.5, 1.0, 'Rolling Mean & Standard Deviation')"
      ]
     },
     "execution_count": 31,
     "metadata": {},
     "output_type": "execute_result"
    },
    {
     "data": {
      "image/png": "[encoded data removed]",
      "text/plain": [
       "<Figure size 432x288 with 1 Axes>"
      ]
     },
     "metadata": {
      "needs_background": "light"
     },
     "output_type": "display_data"
    }
   ],
   "source": [
    "rollmean_decompose = airpass_decompose.rolling(window=12).mean()\n",
    "rollstd_decompose = airpass_decompose.rolling(window=12).std()\n",
    "\n",
    "plt.plot(airpass_decompose, color='blue', label='Original')\n",
    "plt.plot(rollmean_decompose, color='red', label='Rolling Mean')\n",
    "plt.plot(rollstd_decompose, color='black', label='Rolling Std')\n",
    "plt.legend(loc='best')\n",
    "plt.title('Rolling Mean & Standard Deviation')"
   ]
  },
  {
   "cell_type": "markdown",
   "metadata": {
    "id": "HQDKcOvoDB-d",
    "papermill": {
     "duration": 0.060552,
     "end_time": "2021-02-21T18:11:15.665369",
     "exception": false,
     "start_time": "2021-02-21T18:11:15.604817",
     "status": "completed"
    },
    "tags": []
   },
   "source": [
    "### **Plotting ACF & PACF**"
   ]
  },
  {
   "cell_type": "code",
   "execution_count": 32,
   "metadata": {
    "execution": {
     "iopub.execute_input": "2021-02-21T18:11:15.797427Z",
     "iopub.status.busy": "2021-02-21T18:11:15.796565Z",
     "iopub.status.idle": "2021-02-21T18:11:15.800794Z",
     "shell.execute_reply": "2021-02-21T18:11:15.800199Z"
    },
    "id": "37BIycfoDB-e",
    "papermill": {
     "duration": 0.074987,
     "end_time": "2021-02-21T18:11:15.800945",
     "exception": false,
     "start_time": "2021-02-21T18:11:15.725958",
     "status": "completed"
    },
    "tags": []
   },
   "outputs": [],
   "source": [
    "lag_acf = acf(airpass_log_diff, nlags=20)\n",
    "lag_pacf = pacf(airpass_log_diff, nlags=20, method='ols')"
   ]
  },
  {
   "cell_type": "code",
   "execution_count": 33,
   "metadata": {
    "colab": {
     "base_uri": "https://localhost:8080/",
     "height": 297
    },
    "execution": {
     "iopub.execute_input": "2021-02-21T18:11:15.936441Z",
     "iopub.status.busy": "2021-02-21T18:11:15.935757Z",
     "iopub.status.idle": "2021-02-21T18:11:16.228661Z",
     "shell.execute_reply": "2021-02-21T18:11:16.229161Z"
    },
    "id": "KEkAyyszDB-e",
    "outputId": "010eb8d9-bff8-41d3-9add-a605402ba6ef",
    "papermill": {
     "duration": 0.368246,
     "end_time": "2021-02-21T18:11:16.229376",
     "exception": false,
     "start_time": "2021-02-21T18:11:15.861130",
     "status": "completed"
    },
    "tags": []
   },
   "outputs": [
    {
     "data": {
      "image/png": "[encoded data removed]",
      "text/plain": [
       "<Figure size 432x288 with 2 Axes>"
      ]
     },
     "metadata": {
      "needs_background": "light"
     },
     "output_type": "display_data"
    }
   ],
   "source": [
    "#Plot ACF:\n",
    "plt.subplot(121)\n",
    "plt.plot(lag_acf)\n",
    "plt.axhline(y=0, linestyle='--', color='gray')\n",
    "plt.axhline(y=-1.96/np.sqrt(len(airpass_log_diff)), linestyle='--', color='gray')\n",
    "plt.axhline(y=1.96/np.sqrt(len(airpass_log_diff)), linestyle='--', color='gray')\n",
    "plt.title('Autocorrelation Function')            \n",
    "\n",
    "#Plot PACF\n",
    "plt.subplot(122)\n",
    "plt.plot(lag_pacf)\n",
    "plt.axhline(y=0, linestyle='--', color='gray')\n",
    "plt.axhline(y=-1.96/np.sqrt(len(airpass_log_diff)), linestyle='--', color='gray')\n",
    "plt.axhline(y=1.96/np.sqrt(len(airpass_log_diff)), linestyle='--', color='gray')\n",
    "plt.title('Partial Autocorrelation Function')\n",
    "            \n",
    "plt.tight_layout()"
   ]
  },
  {
   "cell_type": "markdown",
   "metadata": {
    "id": "CV0jhePPDB-f",
    "papermill": {
     "duration": 0.072535,
     "end_time": "2021-02-21T18:11:16.365290",
     "exception": false,
     "start_time": "2021-02-21T18:11:16.292755",
     "status": "completed"
    },
    "tags": []
   },
   "source": [
    "From the ACF graph, we can see that curve touches y=0.0 line at x=2. Thus, from theory, Q = 2 \n",
    "From the PACF graph, we see that curve touches y=0.0 line at x=2. Thus, from theory, P = 2\n",
    "\n",
    "**ARIMA is AR + I + MA.** Before, we see an ARIMA model, let us check the results of the individual AR & MA model. Note that, these models will give a value of RSS. Lower the RSS values indicates a better model."
   ]
  },
  {
   "cell_type": "markdown",
   "metadata": {
    "id": "wskMQPabDB-g",
    "papermill": {
     "duration": 0.066947,
     "end_time": "2021-02-21T18:11:16.511027",
     "exception": false,
     "start_time": "2021-02-21T18:11:16.444080",
     "status": "completed"
    },
    "tags": []
   },
   "source": [
    "### **AR Model**\n",
    "Making order = (2,1,0)"
   ]
  },
  {
   "cell_type": "code",
   "execution_count": 39,
   "metadata": {
    "colab": {
     "base_uri": "https://localhost:8080/",
     "height": 298
    },
    "execution": {
     "iopub.execute_input": "2021-02-21T18:11:16.668749Z",
     "iopub.status.busy": "2021-02-21T18:11:16.667905Z",
     "iopub.status.idle": "2021-02-21T18:11:17.056724Z",
     "shell.execute_reply": "2021-02-21T18:11:17.056153Z"
    },
    "id": "cJu6eN1WDB-g",
    "outputId": "0a862020-87f3-4ced-bb19-9c2891c876a4",
    "papermill": {
     "duration": 0.474309,
     "end_time": "2021-02-21T18:11:17.056868",
     "exception": false,
     "start_time": "2021-02-21T18:11:16.582559",
     "status": "completed"
    },
    "tags": []
   },
   "outputs": [
    {
     "name": "stdout",
     "output_type": "stream",
     "text": [
      "Plotting AR model\n"
     ]
    },
    {
     "data": {
      "image/png": "[encoded data removed]",
      "text/plain": [
       "<Figure size 432x288 with 1 Axes>"
      ]
     },
     "metadata": {
      "needs_background": "light"
     },
     "output_type": "display_data"
    }
   ],
   "source": [
    "model1 = ARIMA(airpass_log, order=(2,1,0))\n",
    "results_AR = model1.fit()\n",
    "plt.plot(airpass_log_diff)\n",
    "plt.plot(results_AR.fittedvalues, color='red')\n",
    "plt.title('RSS: %.4f'%sum((results_AR.fittedvalues - airpass_log_diff['Passengers'])**2))\n",
    "print('Plotting AR model')"
   ]
  },
  {
   "cell_type": "markdown",
   "metadata": {
    "id": "J8vA4eSBDB-h",
    "papermill": {
     "duration": 0.068454,
     "end_time": "2021-02-21T18:11:17.192015",
     "exception": false,
     "start_time": "2021-02-21T18:11:17.123561",
     "status": "completed"
    },
    "tags": []
   },
   "source": [
    "### **MA Model**\n",
    "Making order = (0,1,2)"
   ]
  },
  {
   "cell_type": "code",
   "execution_count": 41,
   "metadata": {
    "colab": {
     "base_uri": "https://localhost:8080/",
     "height": 298
    },
    "execution": {
     "iopub.execute_input": "2021-02-21T18:11:17.335129Z",
     "iopub.status.busy": "2021-02-21T18:11:17.334138Z",
     "iopub.status.idle": "2021-02-21T18:11:17.553937Z",
     "shell.execute_reply": "2021-02-21T18:11:17.553028Z"
    },
    "id": "wvG4lGsvDB-j",
    "outputId": "85d5605a-5826-4393-eb9e-f199c31aebe9",
    "papermill": {
     "duration": 0.297845,
     "end_time": "2021-02-21T18:11:17.554088",
     "exception": false,
     "start_time": "2021-02-21T18:11:17.256243",
     "status": "completed"
    },
    "tags": []
   },
   "outputs": [
    {
     "name": "stdout",
     "output_type": "stream",
     "text": [
      "Plotting MA model\n"
     ]
    },
    {
     "data": {
      "image/png": "[encoded data removed]",
      "text/plain": [
       "<Figure size 432x288 with 1 Axes>"
      ]
     },
     "metadata": {
      "needs_background": "light"
     },
     "output_type": "display_data"
    }
   ],
   "source": [
    "model2 = ARIMA(airpass_log, order=(0,1,2))\n",
    "results_MA = model2.fit()\n",
    "plt.plot(airpass_log_diff)\n",
    "plt.plot(results_MA.fittedvalues, color='red')\n",
    "plt.title('RSS: %.4f'%sum((results_MA.fittedvalues - airpass_log_diff['Passengers'])**2))\n",
    "print('Plotting MA model')"
   ]
  },
  {
   "cell_type": "markdown",
   "metadata": {
    "id": "zsU7xc_0DB-l",
    "papermill": {
     "duration": 0.06713,
     "end_time": "2021-02-21T18:11:17.688878",
     "exception": false,
     "start_time": "2021-02-21T18:11:17.621748",
     "status": "completed"
    },
    "tags": []
   },
   "source": [
    "### **AR+I+MA = ARIMA Model**\n",
    "Making order = (2,1,2)"
   ]
  },
  {
   "cell_type": "code",
   "execution_count": 43,
   "metadata": {
    "colab": {
     "base_uri": "https://localhost:8080/",
     "height": 298
    },
    "execution": {
     "iopub.execute_input": "2021-02-21T18:11:17.839618Z",
     "iopub.status.busy": "2021-02-21T18:11:17.838609Z",
     "iopub.status.idle": "2021-02-21T18:11:18.397763Z",
     "shell.execute_reply": "2021-02-21T18:11:18.397128Z"
    },
    "id": "retJjXfTDB-m",
    "outputId": "0abe15f6-2861-47f1-c51f-9e99918efc12",
    "papermill": {
     "duration": 0.640946,
     "end_time": "2021-02-21T18:11:18.397907",
     "exception": false,
     "start_time": "2021-02-21T18:11:17.756961",
     "status": "completed"
    },
    "tags": []
   },
   "outputs": [
    {
     "name": "stdout",
     "output_type": "stream",
     "text": [
      "Plotting ARIMA model\n"
     ]
    },
    {
     "data": {
      "image/png": "[encoded data removed]",
      "text/plain": [
       "<Figure size 432x288 with 1 Axes>"
      ]
     },
     "metadata": {
      "needs_background": "light"
     },
     "output_type": "display_data"
    }
   ],
   "source": [
    "model = ARIMA(airpass_log, order=(2,1,2))\n",
    "results_ARIMA = model.fit()\n",
    "plt.plot(airpass_log_diff)\n",
    "plt.plot(results_ARIMA.fittedvalues, color='red')\n",
    "plt.title('RSS: %.4f'%sum((results_ARIMA.fittedvalues - airpass_log_diff['Passengers'])**2))\n",
    "print('Plotting ARIMA model')"
   ]
  },
  {
   "cell_type": "markdown",
   "metadata": {
    "id": "YV8GGnBwDB-n",
    "papermill": {
     "duration": 0.070333,
     "end_time": "2021-02-21T18:11:18.538441",
     "exception": false,
     "start_time": "2021-02-21T18:11:18.468108",
     "status": "completed"
    },
    "tags": []
   },
   "source": [
    "**RSS value for:**\n",
    "AR Model - 1.5023\n",
    "MA Model - 1.4721\n",
    "\n",
    "ARIMA Model - 1.0292\n",
    "\n",
    "By combining AR & MA into ARIMA, we see that RSS value has decreased from either case to 1.0292, indicating ARIMA to be better than its individual component models.\n",
    "\n",
    "With the ARIMA model built, we will now generate predictions. But, before we do any plots for predictions ,we need to reconvert the predictions back to original form. This is because, our model was built on log transformed data."
   ]
  },
  {
   "cell_type": "markdown",
   "metadata": {
    "id": "LorZF8eaDB-o",
    "papermill": {
     "duration": 0.069864,
     "end_time": "2021-02-21T18:11:18.677872",
     "exception": false,
     "start_time": "2021-02-21T18:11:18.608008",
     "status": "completed"
    },
    "tags": []
   },
   "source": [
    "### **Prediction & Reverse Transformation**"
   ]
  },
  {
   "cell_type": "code",
   "execution_count": 44,
   "metadata": {
    "colab": {
     "base_uri": "https://localhost:8080/"
    },
    "execution": {
     "iopub.execute_input": "2021-02-21T18:11:18.826816Z",
     "iopub.status.busy": "2021-02-21T18:11:18.825893Z",
     "iopub.status.idle": "2021-02-21T18:11:18.830273Z",
     "shell.execute_reply": "2021-02-21T18:11:18.829735Z"
    },
    "id": "0W08JKQDDB-p",
    "outputId": "5ede41b4-6142-4ff6-adb6-f1749f217f1f",
    "papermill": {
     "duration": 0.08201,
     "end_time": "2021-02-21T18:11:18.830413",
     "exception": false,
     "start_time": "2021-02-21T18:11:18.748403",
     "status": "completed"
    },
    "tags": []
   },
   "outputs": [
    {
     "data": {
      "text/plain": [
       "Month\n",
       "1949-01-01    0.000000\n",
       "1949-02-01    4.718499\n",
       "1949-03-01    4.776385\n",
       "1949-04-01    4.883216\n",
       "1949-05-01    4.824421\n",
       "dtype: float64"
      ]
     },
     "execution_count": 44,
     "metadata": {},
     "output_type": "execute_result"
    }
   ],
   "source": [
    "predictions_ARIMA_diff = pd.Series(results_ARIMA.fittedvalues, copy=True)\n",
    "predictions_ARIMA_diff.head()"
   ]
  },
  {
   "cell_type": "code",
   "execution_count": 45,
   "metadata": {
    "colab": {
     "base_uri": "https://localhost:8080/"
    },
    "execution": {
     "iopub.execute_input": "2021-02-21T18:11:18.980377Z",
     "iopub.status.busy": "2021-02-21T18:11:18.979434Z",
     "iopub.status.idle": "2021-02-21T18:11:18.983125Z",
     "shell.execute_reply": "2021-02-21T18:11:18.983724Z"
    },
    "id": "O7xtWMNoDB-p",
    "outputId": "782c7507-cc7c-4367-fb11-3af40ba8bb46",
    "papermill": {
     "duration": 0.083339,
     "end_time": "2021-02-21T18:11:18.983892",
     "exception": false,
     "start_time": "2021-02-21T18:11:18.900553",
     "status": "completed"
    },
    "tags": []
   },
   "outputs": [
    {
     "data": {
      "text/plain": [
       "Month\n",
       "1949-01-01     0.000000\n",
       "1949-02-01     4.718499\n",
       "1949-03-01     9.494884\n",
       "1949-04-01    14.378100\n",
       "1949-05-01    19.202522\n",
       "dtype: float64"
      ]
     },
     "execution_count": 45,
     "metadata": {},
     "output_type": "execute_result"
    }
   ],
   "source": [
    "predictions_ARIMA_diff_cumsum = predictions_ARIMA_diff.cumsum()\n",
    "predictions_ARIMA_diff_cumsum.head()"
   ]
  },
  {
   "cell_type": "code",
   "execution_count": 46,
   "metadata": {
    "colab": {
     "base_uri": "https://localhost:8080/"
    },
    "execution": {
     "iopub.execute_input": "2021-02-21T18:11:19.130434Z",
     "iopub.status.busy": "2021-02-21T18:11:19.129442Z",
     "iopub.status.idle": "2021-02-21T18:11:19.144707Z",
     "shell.execute_reply": "2021-02-21T18:11:19.144060Z"
    },
    "id": "nuisOkSADB-q",
    "outputId": "455210a2-4d27-4228-d67e-a96a58780a0e",
    "papermill": {
     "duration": 0.089597,
     "end_time": "2021-02-21T18:11:19.144862",
     "exception": false,
     "start_time": "2021-02-21T18:11:19.055265",
     "status": "completed"
    },
    "tags": []
   },
   "outputs": [
    {
     "data": {
      "text/plain": [
       "Month\n",
       "1949-01-01     4.718499\n",
       "1949-02-01     9.436998\n",
       "1949-03-01    14.213383\n",
       "1949-04-01    19.096599\n",
       "1949-05-01    23.921020\n",
       "dtype: float64"
      ]
     },
     "execution_count": 46,
     "metadata": {},
     "output_type": "execute_result"
    }
   ],
   "source": [
    "predictions_ARIMA_log = pd.Series(airpass_log['Passengers'].iloc[0], index=airpass_log.index)\n",
    "predictions_ARIMA_log = predictions_ARIMA_log.add(predictions_ARIMA_diff_cumsum, fill_value=0)\n",
    "predictions_ARIMA_log.head()"
   ]
  },
  {
   "cell_type": "markdown",
   "metadata": {
    "id": "u4CQKboKDB-r",
    "papermill": {
     "duration": 0.070868,
     "end_time": "2021-02-21T18:11:19.287054",
     "exception": false,
     "start_time": "2021-02-21T18:11:19.216186",
     "status": "completed"
    },
    "tags": []
   },
   "source": [
    "### **Inverse of log is exp**"
   ]
  },
  {
   "cell_type": "code",
   "execution_count": 48,
   "metadata": {
    "colab": {
     "base_uri": "https://localhost:8080/",
     "height": 282
    },
    "execution": {
     "iopub.execute_input": "2021-02-21T18:11:19.452676Z",
     "iopub.status.busy": "2021-02-21T18:11:19.451622Z",
     "iopub.status.idle": "2021-02-21T18:11:19.590360Z",
     "shell.execute_reply": "2021-02-21T18:11:19.589798Z"
    },
    "id": "uTIAjP09DB-s",
    "outputId": "b9530b25-c772-485c-b6ef-5fda655af818",
    "papermill": {
     "duration": 0.232364,
     "end_time": "2021-02-21T18:11:19.590520",
     "exception": false,
     "start_time": "2021-02-21T18:11:19.358156",
     "status": "completed"
    },
    "tags": []
   },
   "outputs": [
    {
     "data": {
      "text/plain": [
       "[<matplotlib.lines.Line2D at 0x7f3c2691f130>]"
      ]
     },
     "execution_count": 48,
     "metadata": {},
     "output_type": "execute_result"
    },
    {
     "data": {
      "image/png": "[encoded data removed]",
      "text/plain": [
       "<Figure size 432x288 with 1 Axes>"
      ]
     },
     "metadata": {
      "needs_background": "light"
     },
     "output_type": "display_data"
    }
   ],
   "source": [
    "predictions_ARIMA = predictions_ARIMA_log\n",
    "plt.plot(airpassind)\n",
    "plt.plot(predictions_ARIMA)"
   ]
  },
  {
   "cell_type": "markdown",
   "metadata": {
    "id": "7_-emfdBDB-t",
    "papermill": {
     "duration": 0.072373,
     "end_time": "2021-02-21T18:11:19.737795",
     "exception": false,
     "start_time": "2021-02-21T18:11:19.665422",
     "status": "completed"
    },
    "tags": []
   },
   "source": [
    "**From above plot, we can see that our predicted forecasts are very close to the real time series values. It also indicates a fairly accurate model.**"
   ]
  },
  {
   "cell_type": "code",
   "execution_count": 49,
   "metadata": {
    "colab": {
     "base_uri": "https://localhost:8080/",
     "height": 237
    },
    "execution": {
     "iopub.execute_input": "2021-02-21T18:11:19.896557Z",
     "iopub.status.busy": "2021-02-21T18:11:19.895673Z",
     "iopub.status.idle": "2021-02-21T18:11:19.899218Z",
     "shell.execute_reply": "2021-02-21T18:11:19.899859Z"
    },
    "id": "0NQ5YWMMDB-t",
    "outputId": "04149355-0d4e-4539-b8c4-447a63809358",
    "papermill": {
     "duration": 0.088284,
     "end_time": "2021-02-21T18:11:19.900034",
     "exception": false,
     "start_time": "2021-02-21T18:11:19.811750",
     "status": "completed"
    },
    "tags": []
   },
   "outputs": [
    {
     "data": {
      "text/html": [
       "\n",
       "  <div id=\"df-189bf081-9292-4de6-8d69-5d2ed43f8296\">\n",
       "    <div class=\"colab-df-container\">\n",
       "      <div>\n",
       "<style scoped>\n",
       "    .dataframe tbody tr th:only-of-type {\n",
       "        vertical-align: middle;\n",
       "    }\n",
       "\n",
       "    .dataframe tbody tr th {\n",
       "        vertical-align: top;\n",
       "    }\n",
       "\n",
       "    .dataframe thead th {\n",
       "        text-align: right;\n",
       "    }\n",
       "</style>\n",
       "<table border=\"1\" class=\"dataframe\">\n",
       "  <thead>\n",
       "    <tr style=\"text-align: right;\">\n",
       "      <th></th>\n",
       "      <th>Passengers</th>\n",
       "    </tr>\n",
       "    <tr>\n",
       "      <th>Month</th>\n",
       "      <th></th>\n",
       "    </tr>\n",
       "  </thead>\n",
       "  <tbody>\n",
       "    <tr>\n",
       "      <th>1949-01-01</th>\n",
       "      <td>4.718499</td>\n",
       "    </tr>\n",
       "    <tr>\n",
       "      <th>1949-02-01</th>\n",
       "      <td>4.770685</td>\n",
       "    </tr>\n",
       "    <tr>\n",
       "      <th>1949-03-01</th>\n",
       "      <td>4.882802</td>\n",
       "    </tr>\n",
       "    <tr>\n",
       "      <th>1949-04-01</th>\n",
       "      <td>4.859812</td>\n",
       "    </tr>\n",
       "    <tr>\n",
       "      <th>1949-05-01</th>\n",
       "      <td>4.795791</td>\n",
       "    </tr>\n",
       "  </tbody>\n",
       "</table>\n",
       "</div>\n",
       "      <button class=\"colab-df-convert\" onclick=\"convertToInteractive('df-189bf081-9292-4de6-8d69-5d2ed43f8296')\"\n",
       "              title=\"Convert this dataframe to an interactive table.\"\n",
       "              style=\"display:none;\">\n",
       "        \n",
       "  <svg xmlns=\"http://www.w3.org/2000/svg\" height=\"24px\"viewBox=\"0 0 24 24\"\n",
       "       width=\"24px\">\n",
       "    <path d=\"M0 0h24v24H0V0z\" fill=\"none\"/>\n",
       "    <path d=\"M18.56 5.44l.94 2.06.94-2.06 2.06-.94-2.06-.94-.94-2.06-.94 2.06-2.06.94zm-11 1L8.5 8.5l.94-2.06 2.06-.94-2.06-.94L8.5 2.5l-.94 2.06-2.06.94zm10 10l.94 2.06.94-2.06 2.06-.94-2.06-.94-.94-2.06-.94 2.06-2.06.94z\"/><path d=\"M17.41 7.96l-1.37-1.37c-.4-.4-.92-.59-1.43-.59-.52 0-1.04.2-1.43.59L10.3 9.45l-7.72 7.72c-.78.78-.78 2.05 0 2.83L4 21.41c.39.39.9.59 1.41.59.51 0 1.02-.2 1.41-.59l7.78-7.78 2.81-2.81c.8-.78.8-2.07 0-2.86zM5.41 20L4 18.59l7.72-7.72 1.47 1.35L5.41 20z\"/>\n",
       "  </svg>\n",
       "      </button>\n",
       "      \n",
       "  <style>\n",
       "    .colab-df-container {\n",
       "      display:flex;\n",
       "      flex-wrap:wrap;\n",
       "      gap: 12px;\n",
       "    }\n",
       "\n",
       "    .colab-df-convert {\n",
       "      background-color: #E8F0FE;\n",
       "      border: none;\n",
       "      border-radius: 50%;\n",
       "      cursor: pointer;\n",
       "      display: none;\n",
       "      fill: #1967D2;\n",
       "      height: 32px;\n",
       "      padding: 0 0 0 0;\n",
       "      width: 32px;\n",
       "    }\n",
       "\n",
       "    .colab-df-convert:hover {\n",
       "      background-color: #E2EBFA;\n",
       "      box-shadow: 0px 1px 2px rgba(60, 64, 67, 0.3), 0px 1px 3px 1px rgba(60, 64, 67, 0.15);\n",
       "      fill: #174EA6;\n",
       "    }\n",
       "\n",
       "    [theme=dark] .colab-df-convert {\n",
       "      background-color: #3B4455;\n",
       "      fill: #D2E3FC;\n",
       "    }\n",
       "\n",
       "    [theme=dark] .colab-df-convert:hover {\n",
       "      background-color: #434B5C;\n",
       "      box-shadow: 0px 1px 3px 1px rgba(0, 0, 0, 0.15);\n",
       "      filter: drop-shadow(0px 1px 2px rgba(0, 0, 0, 0.3));\n",
       "      fill: #FFFFFF;\n",
       "    }\n",
       "  </style>\n",
       "\n",
       "      <script>\n",
       "        const buttonEl =\n",
       "          document.querySelector('#df-189bf081-9292-4de6-8d69-5d2ed43f8296 button.colab-df-convert');\n",
       "        buttonEl.style.display =\n",
       "          google.colab.kernel.accessAllowed ? 'block' : 'none';\n",
       "\n",
       "        async function convertToInteractive(key) {\n",
       "          const element = document.querySelector('#df-189bf081-9292-4de6-8d69-5d2ed43f8296');\n",
       "          const dataTable =\n",
       "            await google.colab.kernel.invokeFunction('convertToInteractive',\n",
       "                                                     [key], {});\n",
       "          if (!dataTable) return;\n",
       "\n",
       "          const docLinkHtml = 'Like what you see? Visit the ' +\n",
       "            '<a target=\"_blank\" href=https://colab.research.google.com/notebooks/data_table.ipynb>data table notebook</a>'\n",
       "            + ' to learn more about interactive tables.';\n",
       "          element.innerHTML = '';\n",
       "          dataTable['output_type'] = 'display_data';\n",
       "          await google.colab.output.renderOutput(dataTable, element);\n",
       "          const docLink = document.createElement('div');\n",
       "          docLink.innerHTML = docLinkHtml;\n",
       "          element.appendChild(docLink);\n",
       "        }\n",
       "      </script>\n",
       "    </div>\n",
       "  </div>\n",
       "  "
      ],
      "text/plain": [
       "            Passengers\n",
       "Month                 \n",
       "1949-01-01    4.718499\n",
       "1949-02-01    4.770685\n",
       "1949-03-01    4.882802\n",
       "1949-04-01    4.859812\n",
       "1949-05-01    4.795791"
      ]
     },
     "execution_count": 49,
     "metadata": {},
     "output_type": "execute_result"
    }
   ],
   "source": [
    "airpass_log.head()"
   ]
  },
  {
   "cell_type": "markdown",
   "metadata": {
    "id": "NzuW6D0uDB-u",
    "papermill": {
     "duration": 0.072695,
     "end_time": "2021-02-21T18:11:20.047283",
     "exception": false,
     "start_time": "2021-02-21T18:11:19.974588",
     "status": "completed"
    },
    "tags": []
   },
   "source": [
    "**We have 144 (existing data of 12 yrs in months) data points. \n",
    "Now, we want to forecast for additional 10 yrs (10x12 months=120 data points).**\n",
    "\n",
    "**144+120 = 264 records/data points**"
   ]
  },
  {
   "cell_type": "code",
   "execution_count": null,
   "metadata": {
    "id": "EtfjK5kFE1M7"
   },
   "outputs": [],
   "source": []
  }
 ],
 "metadata": {
  "colab": {
   "provenance": []
  },
  "kernelspec": {
   "display_name": "Python 3 (ipykernel)",
   "language": "python",
   "name": "python3"
  },
  "language_info": {
   "codemirror_mode": {
    "name": "ipython",
    "version": 3
   },
   "file_extension": ".py",
   "mimetype": "text/x-python",
   "name": "python",
   "nbconvert_exporter": "python",
   "pygments_lexer": "ipython3",
   "version": "3.9.13"
  },
  "papermill": {
   "default_parameters": {},
   "duration": 20.357429,
   "end_time": "2021-02-21T18:11:21.436419",
   "environment_variables": {},
   "exception": null,
   "input_path": "__notebook__.ipynb",
   "output_path": "__notebook__.ipynb",
   "parameters": {},
   "start_time": "2021-02-21T18:11:01.078990",
   "version": "2.2.2"
  }
 },
 "nbformat": 4,
 "nbformat_minor": 1
}
